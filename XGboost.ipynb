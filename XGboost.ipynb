{
 "cells": [
  {
   "cell_type": "code",
   "execution_count": null,
   "id": "c11c94c4-43f5-4fa4-8eda-f58a331e697c",
   "metadata": {},
   "outputs": [],
   "source": []
  },
  {
   "cell_type": "code",
   "execution_count": 29,
   "id": "aa6a7954-c2a3-4c98-8a21-05a2b7268812",
   "metadata": {},
   "outputs": [],
   "source": [
    "import pandas as pd\n",
    "from xgboost import XGBRegressor\n",
    "from sklearn.model_selection import train_test_split"
   ]
  },
  {
   "cell_type": "code",
   "execution_count": 30,
   "id": "de5ea5d8-c794-4ccc-954b-6673ef5ff2c0",
   "metadata": {},
   "outputs": [],
   "source": [
    "# Load your data\n",
    "df = pd.read_csv('jordan2.csv')\n",
    "# Define features and target variable"
   ]
  },
  {
   "cell_type": "code",
   "execution_count": 31,
   "id": "534dbfed-5bb3-4dbb-9b90-466f8016ec44",
   "metadata": {},
   "outputs": [
    {
     "name": "stdout",
     "output_type": "stream",
     "text": [
      "<class 'pandas.core.frame.DataFrame'>\n",
      "RangeIndex: 120 entries, 0 to 119\n",
      "Data columns (total 10 columns):\n",
      " #   Column          Non-Null Count  Dtype  \n",
      "---  ------          --------------  -----  \n",
      " 0   Year            120 non-null    int64  \n",
      " 1   Planted Area    120 non-null    float64\n",
      " 2   Harvested Area  120 non-null    float64\n",
      " 3   Temp_mean       120 non-null    float64\n",
      " 4   Temp_min        120 non-null    float64\n",
      " 5   Temp_max        120 non-null    float64\n",
      " 6   Precipitation   120 non-null    float64\n",
      " 7   Average Yield   120 non-null    float64\n",
      " 8   crop            120 non-null    object \n",
      " 9   Production      120 non-null    float64\n",
      "dtypes: float64(8), int64(1), object(1)\n",
      "memory usage: 9.5+ KB\n"
     ]
    }
   ],
   "source": [
    "df.info()"
   ]
  },
  {
   "cell_type": "code",
   "execution_count": 32,
   "id": "37eca938-d8bd-4685-9af3-4b59805e0978",
   "metadata": {},
   "outputs": [
    {
     "data": {
      "text/plain": [
       "<bound method Series.unique of 0      1999\n",
       "1      2000\n",
       "2      2001\n",
       "3      2002\n",
       "4      2003\n",
       "       ... \n",
       "115    2018\n",
       "116    2019\n",
       "117    2020\n",
       "118    2021\n",
       "119    2022\n",
       "Name: Year, Length: 120, dtype: int64>"
      ]
     },
     "execution_count": 32,
     "metadata": {},
     "output_type": "execute_result"
    }
   ],
   "source": [
    "df.Year.unique"
   ]
  },
  {
   "cell_type": "code",
   "execution_count": 33,
   "id": "5cbc4b6f-1441-4e1e-8e95-3a4f7096f732",
   "metadata": {},
   "outputs": [],
   "source": [
    "# One-Hot Encode categorical features (if any)\n",
    "categorical_features = [col for col in df if df[col].dtype == object]\n",
    "for col in categorical_features:\n",
    "    df = pd.get_dummies(df, columns=[col])"
   ]
  },
  {
   "cell_type": "code",
   "execution_count": 34,
   "id": "1aebacf2-c6b4-4b46-aa9c-b803fb7b97ed",
   "metadata": {},
   "outputs": [],
   "source": [
    "features = ['Year', 'Planted Area', 'Harvested Area', 'Average Yield', 'Temp_mean', 'Temp_min', 'Temp_max', 'crop_Barley', 'crop_Chickpea','crop_Lentil','crop_Vetch', 'crop_Wheat']\n",
    "target = \"Production\""
   ]
  },
  {
   "cell_type": "code",
   "execution_count": 35,
   "id": "f818de04-1a08-45f4-bd39-6d23cb0acbfa",
   "metadata": {},
   "outputs": [
    {
     "name": "stdout",
     "output_type": "stream",
     "text": [
      "<class 'pandas.core.frame.DataFrame'>\n",
      "RangeIndex: 120 entries, 0 to 119\n",
      "Data columns (total 14 columns):\n",
      " #   Column          Non-Null Count  Dtype  \n",
      "---  ------          --------------  -----  \n",
      " 0   Year            120 non-null    int64  \n",
      " 1   Planted Area    120 non-null    float64\n",
      " 2   Harvested Area  120 non-null    float64\n",
      " 3   Temp_mean       120 non-null    float64\n",
      " 4   Temp_min        120 non-null    float64\n",
      " 5   Temp_max        120 non-null    float64\n",
      " 6   Precipitation   120 non-null    float64\n",
      " 7   Average Yield   120 non-null    float64\n",
      " 8   Production      120 non-null    float64\n",
      " 9   crop_Barley     120 non-null    bool   \n",
      " 10  crop_Chickpea   120 non-null    bool   \n",
      " 11  crop_Lentil     120 non-null    bool   \n",
      " 12  crop_Vetch      120 non-null    bool   \n",
      " 13  crop_Wheat      120 non-null    bool   \n",
      "dtypes: bool(5), float64(8), int64(1)\n",
      "memory usage: 9.2 KB\n"
     ]
    }
   ],
   "source": [
    "df.info()"
   ]
  },
  {
   "cell_type": "code",
   "execution_count": 36,
   "id": "62737375-9cda-4e3f-a070-8c0bf9fb633b",
   "metadata": {},
   "outputs": [],
   "source": [
    "# Separate features and target\n",
    "X = df[features]\n",
    "y = df[target]\n",
    "# Train-Test Split\n",
    "X_train, X_test, y_train, y_test = train_test_split(X, y, test_size=0.2, random_state=42)"
   ]
  },
  {
   "cell_type": "code",
   "execution_count": 37,
   "id": "4216f880-1c11-4d93-a578-7c09b4565166",
   "metadata": {},
   "outputs": [
    {
     "name": "stdout",
     "output_type": "stream",
     "text": [
      "R-squared: 0.8820, Mean Squared Error: 58746898.54\n"
     ]
    },
    {
     "data": {
      "text/plain": [
       "['xgboost_model.pkl']"
      ]
     },
     "execution_count": 37,
     "metadata": {},
     "output_type": "execute_result"
    }
   ],
   "source": [
    "# Define XGBoost model\n",
    "model = XGBRegressor(objective=\"reg:squarederror\", n_estimators=100, learning_rate=0.1)\n",
    "\n",
    "# Train the model\n",
    "model.fit(X_train, y_train)\n",
    "\n",
    "# Make predictions\n",
    "y_pred = model.predict(X_test)\n",
    "\n",
    "# Evaluate model performance (e.g., R-squared, Mean Squared Error)\n",
    "from sklearn.metrics import r2_score, mean_squared_error\n",
    "r2 = r2_score(y_test, y_pred)\n",
    "mse = mean_squared_error(y_test, y_pred)\n",
    "print(f\"R-squared: {r2:.4f}, Mean Squared Error: {mse:.2f}\")\n",
    "\n",
    "# (Optional) Save the model for future use\n",
    "import joblib\n",
    "joblib.dump(model, \"xgboost_model.pkl\")\n"
   ]
  }
 ],
 "metadata": {
  "kernelspec": {
   "display_name": "Python 3 (ipykernel)",
   "language": "python",
   "name": "python3"
  },
  "language_info": {
   "codemirror_mode": {
    "name": "ipython",
    "version": 3
   },
   "file_extension": ".py",
   "mimetype": "text/x-python",
   "name": "python",
   "nbconvert_exporter": "python",
   "pygments_lexer": "ipython3",
   "version": "3.11.7"
  }
 },
 "nbformat": 4,
 "nbformat_minor": 5
}
