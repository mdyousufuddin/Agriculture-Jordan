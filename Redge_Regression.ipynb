{
 "cells": [
  {
   "cell_type": "code",
   "execution_count": 2,
   "id": "31108de3-eda3-48b6-ae8f-6f1c3833c688",
   "metadata": {},
   "outputs": [],
   "source": [
    "import pandas as pd\n",
    "from matplotlib import pyplot as plt\n",
    "import numpy as np\n",
    "import seaborn as sns\n",
    "from sklearn.linear_model import LinearRegression\n",
    "from sklearn.linear_model import Ridge"
   ]
  },
  {
   "cell_type": "code",
   "execution_count": 3,
   "id": "9a52d4ea-04cc-4474-bf20-380b700f9588",
   "metadata": {},
   "outputs": [],
   "source": [
    "df = pd.read_csv('jordan.csv')"
   ]
  },
  {
   "cell_type": "code",
   "execution_count": 4,
   "id": "9ef108cd-370a-4cc9-885a-1a64ec6d3818",
   "metadata": {},
   "outputs": [
    {
     "data": {
      "text/plain": [
       "Year                int64\n",
       "Planted Area      float64\n",
       "Harvested Area    float64\n",
       "Temp_mean         float64\n",
       "Temp_min          float64\n",
       "Temp_max          float64\n",
       "Precipitation     float64\n",
       "Average Yield     float64\n",
       "crop               object\n",
       "Production        float64\n",
       "dtype: object"
      ]
     },
     "execution_count": 4,
     "metadata": {},
     "output_type": "execute_result"
    }
   ],
   "source": [
    "df.dtypes"
   ]
  },
  {
   "cell_type": "code",
   "execution_count": 5,
   "id": "fb0db74a-8a56-4400-96e9-66a27d819b3e",
   "metadata": {},
   "outputs": [],
   "source": [
    "# One-Hot Encode categorical features (if any)\n",
    "categorical_features = [col for col in df if df[col].dtype == object]\n",
    "for col in categorical_features:\n",
    "    df = pd.get_dummies(df, columns=[col])"
   ]
  },
  {
   "cell_type": "code",
   "execution_count": 6,
   "id": "8fc05863-cc9c-4c9d-ab4d-5be000b3abd2",
   "metadata": {},
   "outputs": [
    {
     "name": "stdout",
     "output_type": "stream",
     "text": [
      "<class 'pandas.core.frame.DataFrame'>\n",
      "RangeIndex: 120 entries, 0 to 119\n",
      "Data columns (total 14 columns):\n",
      " #   Column          Non-Null Count  Dtype  \n",
      "---  ------          --------------  -----  \n",
      " 0   Year            120 non-null    int64  \n",
      " 1   Planted Area    120 non-null    float64\n",
      " 2   Harvested Area  120 non-null    float64\n",
      " 3   Temp_mean       120 non-null    float64\n",
      " 4   Temp_min        120 non-null    float64\n",
      " 5   Temp_max        120 non-null    float64\n",
      " 6   Precipitation   120 non-null    float64\n",
      " 7   Average Yield   120 non-null    float64\n",
      " 8   Production      120 non-null    float64\n",
      " 9   crop_Barley     120 non-null    bool   \n",
      " 10  crop_Chickpea   120 non-null    bool   \n",
      " 11  crop_Lentil     120 non-null    bool   \n",
      " 12  crop_Vetch      120 non-null    bool   \n",
      " 13  crop_Wheat      120 non-null    bool   \n",
      "dtypes: bool(5), float64(8), int64(1)\n",
      "memory usage: 9.2 KB\n"
     ]
    }
   ],
   "source": [
    "df.info()"
   ]
  },
  {
   "cell_type": "code",
   "execution_count": 7,
   "id": "92851c24-148f-4762-b7c7-4628e3a70457",
   "metadata": {},
   "outputs": [],
   "source": [
    "X = df.drop(['Production'], axis=1)\n",
    "y = df['Production']"
   ]
  },
  {
   "cell_type": "markdown",
   "id": "af5bc73c-d380-4286-be1b-31e1ac161336",
   "metadata": {},
   "source": [
    "## Transform"
   ]
  },
  {
   "cell_type": "code",
   "execution_count": 8,
   "id": "3dffeac6-140e-4a66-ac9f-22e78e77b757",
   "metadata": {},
   "outputs": [],
   "source": [
    "from sklearn.preprocessing import PowerTransformer\n",
    "pt = PowerTransformer()\n",
    "X_transformed = pt.fit_transform(X)"
   ]
  },
  {
   "cell_type": "code",
   "execution_count": 9,
   "id": "2a0da456-5baa-496c-8da5-ff710c2daa2e",
   "metadata": {},
   "outputs": [
    {
     "name": "stdout",
     "output_type": "stream",
     "text": [
      "Original target: 0       9250.5\n",
      "1      25433.7\n",
      "2      19293.0\n",
      "3      43770.8\n",
      "4      42526.0\n",
      "        ...   \n",
      "115      371.6\n",
      "116       38.4\n",
      "117      819.1\n",
      "118     1012.5\n",
      "119      570.0\n",
      "Name: Production, Length: 120, dtype: float64\n",
      "Log-transformed target: 0       9.132541\n",
      "1      10.143870\n",
      "2       9.867549\n",
      "3      10.686745\n",
      "4      10.657894\n",
      "         ...    \n",
      "115     5.920505\n",
      "116     3.673766\n",
      "117     6.709426\n",
      "118     6.921165\n",
      "119     6.347389\n",
      "Name: Production, Length: 120, dtype: float64\n"
     ]
    }
   ],
   "source": [
    "Y_log = np.log(y + 1)\n",
    "print(\"Original target:\", y)\n",
    "print(\"Log-transformed target:\", Y_log)"
   ]
  },
  {
   "cell_type": "code",
   "execution_count": 10,
   "id": "71bcd097-6676-4770-b72d-1d7ffe47064d",
   "metadata": {},
   "outputs": [
    {
     "name": "stdout",
     "output_type": "stream",
     "text": [
      "(120, 13)\n",
      "(120,)\n"
     ]
    }
   ],
   "source": [
    "print(X_transformed.shape)\n",
    "print(Y_log.shape)"
   ]
  },
  {
   "cell_type": "code",
   "execution_count": 11,
   "id": "e420d6fa-e704-4ed4-8f87-60bc456c474d",
   "metadata": {},
   "outputs": [],
   "source": [
    "from sklearn.model_selection import train_test_split\n",
    "X_train, X_test, y_train, y_test = train_test_split(X_transformed, Y_log, test_size=0.2, random_state=42)"
   ]
  },
  {
   "cell_type": "code",
   "execution_count": 12,
   "id": "2aa27cc5-5df1-4aeb-ae3d-d8ce65419f16",
   "metadata": {},
   "outputs": [],
   "source": [
    "model = Ridge(alpha=1.0) # Adjust alpha for regularization strength\n",
    "model.fit(X_train, y_train)\n",
    "predictions = model.predict(X_test)\n"
   ]
  },
  {
   "cell_type": "code",
   "execution_count": 13,
   "id": "f809919e-eefd-4c1e-a947-08757ab970fc",
   "metadata": {},
   "outputs": [
    {
     "name": "stdout",
     "output_type": "stream",
     "text": [
      "Mean Absolute Error (MAE): 0.1265279365823584\n",
      "Mean Squared Error (MSE): 0.03528931815266983\n",
      "R-squared: 0.9926036075680406\n",
      "RMSE: 0.18785451326137956\n"
     ]
    }
   ],
   "source": [
    "from sklearn.metrics import mean_squared_error, r2_score\n",
    "from sklearn.metrics import mean_absolute_error\n",
    "import math\n",
    "# After making predictions on the testing set (y_pred)\n",
    "mae = mean_absolute_error(y_test,predictions)\n",
    "mse = mean_squared_error(y_test,predictions)\n",
    "r2 = r2_score(y_test, predictions)\n",
    "# Print the performance metrics\n",
    "print(\"Mean Absolute Error (MAE):\", mae)\n",
    "print(\"Mean Squared Error (MSE):\", mse)\n",
    "print(\"R-squared:\", r2)\n",
    "print(\"RMSE:\", math.sqrt(mse))"
   ]
  },
  {
   "cell_type": "code",
   "execution_count": 14,
   "id": "c6c3a97e-e8d1-4c03-aabd-35e6b24d1524",
   "metadata": {},
   "outputs": [
    {
     "name": "stdout",
     "output_type": "stream",
     "text": [
      "(120, 13)\n",
      "(120,)\n"
     ]
    }
   ],
   "source": [
    "print(X.shape)\n",
    "print(y.shape)"
   ]
  },
  {
   "cell_type": "code",
   "execution_count": 15,
   "id": "494a8952-3d2b-45ef-b679-4f71048467c8",
   "metadata": {},
   "outputs": [
    {
     "name": "stdout",
     "output_type": "stream",
     "text": [
      "RMSE: 0.18785451326137956\n"
     ]
    }
   ],
   "source": [
    "from sklearn.metrics import mean_squared_error\n",
    "\n",
    "def rmse(y_test, y_pred):\n",
    "  \"\"\"Calculates the Root Mean Squared Error (RMSE)\"\"\"\n",
    "  return np.sqrt(mean_squared_error(y_test, predictions))\n",
    "\n",
    "rmse_val = rmse(y_test, predictions)\n",
    "print(\"RMSE:\", rmse_val)"
   ]
  },
  {
   "cell_type": "code",
   "execution_count": 16,
   "id": "a6cd2578-1c2e-4d86-a502-ad968fa8f096",
   "metadata": {},
   "outputs": [
    {
     "name": "stdout",
     "output_type": "stream",
     "text": [
      "Mean Absolute Percentage Error: 1.4531202309955467\n"
     ]
    },
    {
     "data": {
      "image/png": "[encoded data removed]",
      "text/plain": [
       "<Figure size 640x480 with 1 Axes>"
      ]
     },
     "metadata": {},
     "output_type": "display_data"
    }
   ],
   "source": [
    "import numpy as np\n",
    "import matplotlib.pyplot as plt\n",
    "def mean_absolute_percentage_error(y_test, predictions):\n",
    "  \"\"\"Calculates the Mean Absolute Percentage Error (MAPE)\"\"\"\n",
    "  y_test, predictions = np.array(y_test), np.array(predictions)\n",
    "  return np.mean(np.abs((y_test - predictions) / y_test)) * 100\n",
    "\n",
    "# Calculate MAPE\n",
    "mape = mean_absolute_percentage_error(y_test, predictions)\n",
    "print(\"Mean Absolute Percentage Error:\", mape)\n",
    "\n",
    "# Create scatter plot\n",
    "plt.scatter(y_test, predictions)\n",
    "plt.xlabel(\"True Values\")\n",
    "plt.ylabel(\"Predicted Values\")\n",
    "plt.title(f\"True vs Predicted Values with MAPE = {mape:.2f}%\")\n",
    "plt.grid(True)\n",
    "plt.show()"
   ]
  },
  {
   "cell_type": "code",
   "execution_count": 17,
   "id": "8b0ceabc-2dd9-4805-8fcd-a0d227ff56b6",
   "metadata": {},
   "outputs": [
    {
     "name": "stdout",
     "output_type": "stream",
     "text": [
      "     True Values  Predicted Values  Difference\n",
      "0       9.132541          9.705648    0.573107\n",
      "91      8.766706          8.224117    0.542589\n",
      "11     10.004536          9.816801    0.187735\n",
      "44     11.106747         10.952364    0.154383\n",
      "26      9.760166          9.898174    0.138008\n",
      "70      6.867662          7.004162    0.136500\n",
      "107     6.293789          6.160421    0.133368\n",
      "18      9.401902          9.534929    0.133027\n",
      "36     10.284879         10.408459    0.123580\n",
      "45     11.369238         11.245686    0.123552\n",
      "4      10.657894         10.549693    0.108202\n",
      "31      9.822202          9.724579    0.097623\n",
      "40     10.608731         10.513808    0.094924\n",
      "73      7.597246          7.685588    0.088342\n",
      "88      7.443839          7.527730    0.083891\n",
      "47     10.267436         10.348852    0.081416\n",
      "10      9.432283          9.377102    0.055182\n",
      "89      7.612633          7.662142    0.049508\n",
      "64      4.122284          4.080121    0.042163\n",
      "55      5.711420          5.682543    0.028877\n",
      "104     5.650733          5.622969    0.027764\n",
      "65      4.730039          4.756195    0.026156\n",
      "62      5.368776          5.363593    0.005183\n",
      "109     5.547908          5.546317    0.001591\n"
     ]
    }
   ],
   "source": [
    "# Create a DataFrame\n",
    "dfp = pd.DataFrame({'True Values': y_test, 'Predicted Values': predictions})\n",
    "# Calculate the difference\n",
    "dfp['Difference'] = abs(dfp['True Values'] - dfp['Predicted Values'])\n",
    "# Sort by difference\n",
    "df_sorted = dfp.sort_values(by='Difference', ascending=False)\n",
    "print(df_sorted)"
   ]
  },
  {
   "cell_type": "code",
   "execution_count": 22,
   "id": "74aebe7f-e4d8-48c6-af07-2af765d890e4",
   "metadata": {},
   "outputs": [],
   "source": [
    "dfpr = pd.read_csv('prediction.csv')\n",
    "categorical_features = [col for col in dfpr if dfpr[col].dtype == object]\n",
    "for col in categorical_features:\n",
    "    dfpr = pd.get_dummies(dfpr, columns=[col])"
   ]
  },
  {
   "cell_type": "code",
   "execution_count": 23,
   "id": "618d64ae-75b9-4b93-9d78-a67da917a5a6",
   "metadata": {},
   "outputs": [
    {
     "name": "stderr",
     "output_type": "stream",
     "text": [
      "C:\\ProgramData\\anaconda3\\Lib\\site-packages\\sklearn\\base.py:432: UserWarning: X has feature names, but Ridge was fitted without feature names\n",
      "  warnings.warn(\n"
     ]
    }
   ],
   "source": [
    "predictions2 = model.predict(dfpr)"
   ]
  },
  {
   "cell_type": "code",
   "execution_count": 25,
   "id": "98f6fbb5-2745-4071-91ee-8f6fd0f54eed",
   "metadata": {},
   "outputs": [
    {
     "name": "stdout",
     "output_type": "stream",
     "text": [
      "[217701.88633937 217701.91406768 217701.941796   217701.96952431\n",
      " 217701.99725263 538272.11199444 538272.13972275 538272.16745107\n",
      " 538272.19517938 538272.2229077   10197.44160468  10197.46933299\n",
      "  10197.49706131  10197.52478962  10197.55251794  10532.3107238\n",
      "  10532.33845211  10532.36618043  10532.39390874  10532.42163706\n",
      "   6301.90385555   9511.66281822   6445.99271296   5500.77226935\n",
      "   6356.71558143   6823.49678903]\n"
     ]
    }
   ],
   "source": [
    "print(predictions2)"
   ]
  },
  {
   "cell_type": "code",
   "execution_count": null,
   "id": "1655fca8-568c-4196-8e88-ed8a202598c8",
   "metadata": {},
   "outputs": [],
   "source": []
  }
 ],
 "metadata": {
  "kernelspec": {
   "display_name": "Python 3 (ipykernel)",
   "language": "python",
   "name": "python3"
  },
  "language_info": {
   "codemirror_mode": {
    "name": "ipython",
    "version": 3
   },
   "file_extension": ".py",
   "mimetype": "text/x-python",
   "name": "python",
   "nbconvert_exporter": "python",
   "pygments_lexer": "ipython3",
   "version": "3.11.7"
  }
 },
 "nbformat": 4,
 "nbformat_minor": 5
}
