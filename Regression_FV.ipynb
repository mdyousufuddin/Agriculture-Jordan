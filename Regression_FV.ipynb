{
 "cells": [
  {
   "cell_type": "code",
   "execution_count": 1,
   "id": "31108de3-eda3-48b6-ae8f-6f1c3833c688",
   "metadata": {},
   "outputs": [],
   "source": [
    "import pandas as pd\n",
    "from matplotlib import pyplot"
   ]
  },
  {
   "cell_type": "code",
   "execution_count": 2,
   "id": "9a52d4ea-04cc-4474-bf20-380b700f9588",
   "metadata": {},
   "outputs": [],
   "source": [
    "df = pd.read_csv('jordan2.csv')"
   ]
  },
  {
   "cell_type": "code",
   "execution_count": 3,
   "id": "9ef108cd-370a-4cc9-885a-1a64ec6d3818",
   "metadata": {},
   "outputs": [
    {
     "data": {
      "text/plain": [
       "Year                int64\n",
       "Planted Area      float64\n",
       "Harvested Area    float64\n",
       "Temp_mean         float64\n",
       "Temp_min          float64\n",
       "Temp_max          float64\n",
       "Precipitation     float64\n",
       "Average Yield     float64\n",
       "crop               object\n",
       "Production        float64\n",
       "dtype: object"
      ]
     },
     "execution_count": 3,
     "metadata": {},
     "output_type": "execute_result"
    }
   ],
   "source": [
    "df.dtypes"
   ]
  },
  {
   "cell_type": "code",
   "execution_count": 43,
   "id": "70a06a73-25ba-489c-9348-b1e2dba58714",
   "metadata": {},
   "outputs": [
    {
     "data": {
      "text/plain": [
       "<bound method Series.unique of 0      4\n",
       "1      4\n",
       "2      4\n",
       "3      4\n",
       "4      4\n",
       "      ..\n",
       "115    3\n",
       "116    3\n",
       "117    3\n",
       "118    3\n",
       "119    3\n",
       "Name: crop, Length: 120, dtype: int8>"
      ]
     },
     "execution_count": 43,
     "metadata": {},
     "output_type": "execute_result"
    }
   ],
   "source": [
    "df.crop.unique"
   ]
  },
  {
   "cell_type": "code",
   "execution_count": 4,
   "id": "fb0db74a-8a56-4400-96e9-66a27d819b3e",
   "metadata": {},
   "outputs": [
    {
     "data": {
      "text/html": [
       "<div>\n",
       "<style scoped>\n",
       "    .dataframe tbody tr th:only-of-type {\n",
       "        vertical-align: middle;\n",
       "    }\n",
       "\n",
       "    .dataframe tbody tr th {\n",
       "        vertical-align: top;\n",
       "    }\n",
       "\n",
       "    .dataframe thead th {\n",
       "        text-align: right;\n",
       "    }\n",
       "</style>\n",
       "<table border=\"1\" class=\"dataframe\">\n",
       "  <thead>\n",
       "    <tr style=\"text-align: right;\">\n",
       "      <th></th>\n",
       "      <th>Year</th>\n",
       "      <th>Planted Area</th>\n",
       "      <th>Harvested Area</th>\n",
       "      <th>Temp_mean</th>\n",
       "      <th>Temp_min</th>\n",
       "      <th>Temp_max</th>\n",
       "      <th>Precipitation</th>\n",
       "      <th>Average Yield</th>\n",
       "      <th>crop</th>\n",
       "      <th>Production</th>\n",
       "    </tr>\n",
       "  </thead>\n",
       "  <tbody>\n",
       "    <tr>\n",
       "      <th>0</th>\n",
       "      <td>1999</td>\n",
       "      <td>506626.9</td>\n",
       "      <td>40875.9</td>\n",
       "      <td>19.73</td>\n",
       "      <td>12.48</td>\n",
       "      <td>27.03</td>\n",
       "      <td>66.53</td>\n",
       "      <td>0.23</td>\n",
       "      <td>4</td>\n",
       "      <td>9250.5</td>\n",
       "    </tr>\n",
       "    <tr>\n",
       "      <th>1</th>\n",
       "      <td>2000</td>\n",
       "      <td>476437.7</td>\n",
       "      <td>182036.7</td>\n",
       "      <td>18.94</td>\n",
       "      <td>11.71</td>\n",
       "      <td>26.22</td>\n",
       "      <td>96.50</td>\n",
       "      <td>0.14</td>\n",
       "      <td>4</td>\n",
       "      <td>25433.7</td>\n",
       "    </tr>\n",
       "    <tr>\n",
       "      <th>2</th>\n",
       "      <td>2001</td>\n",
       "      <td>443559.5</td>\n",
       "      <td>134494.7</td>\n",
       "      <td>19.76</td>\n",
       "      <td>12.60</td>\n",
       "      <td>26.97</td>\n",
       "      <td>104.04</td>\n",
       "      <td>0.14</td>\n",
       "      <td>4</td>\n",
       "      <td>19293.0</td>\n",
       "    </tr>\n",
       "    <tr>\n",
       "      <th>3</th>\n",
       "      <td>2002</td>\n",
       "      <td>427042.7</td>\n",
       "      <td>327454.4</td>\n",
       "      <td>19.52</td>\n",
       "      <td>12.41</td>\n",
       "      <td>26.68</td>\n",
       "      <td>126.07</td>\n",
       "      <td>0.13</td>\n",
       "      <td>4</td>\n",
       "      <td>43770.8</td>\n",
       "    </tr>\n",
       "    <tr>\n",
       "      <th>4</th>\n",
       "      <td>2003</td>\n",
       "      <td>500622.8</td>\n",
       "      <td>297813.0</td>\n",
       "      <td>19.50</td>\n",
       "      <td>12.50</td>\n",
       "      <td>26.54</td>\n",
       "      <td>133.74</td>\n",
       "      <td>0.14</td>\n",
       "      <td>4</td>\n",
       "      <td>42526.0</td>\n",
       "    </tr>\n",
       "    <tr>\n",
       "      <th>...</th>\n",
       "      <td>...</td>\n",
       "      <td>...</td>\n",
       "      <td>...</td>\n",
       "      <td>...</td>\n",
       "      <td>...</td>\n",
       "      <td>...</td>\n",
       "      <td>...</td>\n",
       "      <td>...</td>\n",
       "      <td>...</td>\n",
       "      <td>...</td>\n",
       "    </tr>\n",
       "    <tr>\n",
       "      <th>115</th>\n",
       "      <td>2018</td>\n",
       "      <td>8231.4</td>\n",
       "      <td>5341.7</td>\n",
       "      <td>20.44</td>\n",
       "      <td>13.50</td>\n",
       "      <td>27.44</td>\n",
       "      <td>122.96</td>\n",
       "      <td>0.07</td>\n",
       "      <td>3</td>\n",
       "      <td>371.6</td>\n",
       "    </tr>\n",
       "    <tr>\n",
       "      <th>116</th>\n",
       "      <td>2019</td>\n",
       "      <td>935.0</td>\n",
       "      <td>532.6</td>\n",
       "      <td>19.89</td>\n",
       "      <td>12.88</td>\n",
       "      <td>26.96</td>\n",
       "      <td>112.83</td>\n",
       "      <td>0.07</td>\n",
       "      <td>3</td>\n",
       "      <td>38.4</td>\n",
       "    </tr>\n",
       "    <tr>\n",
       "      <th>117</th>\n",
       "      <td>2020</td>\n",
       "      <td>2927.8</td>\n",
       "      <td>1904.3</td>\n",
       "      <td>19.90</td>\n",
       "      <td>12.90</td>\n",
       "      <td>26.90</td>\n",
       "      <td>145.40</td>\n",
       "      <td>0.43</td>\n",
       "      <td>3</td>\n",
       "      <td>819.1</td>\n",
       "    </tr>\n",
       "    <tr>\n",
       "      <th>118</th>\n",
       "      <td>2021</td>\n",
       "      <td>4561.9</td>\n",
       "      <td>3017.3</td>\n",
       "      <td>20.30</td>\n",
       "      <td>13.10</td>\n",
       "      <td>27.60</td>\n",
       "      <td>89.20</td>\n",
       "      <td>0.34</td>\n",
       "      <td>3</td>\n",
       "      <td>1012.5</td>\n",
       "    </tr>\n",
       "    <tr>\n",
       "      <th>119</th>\n",
       "      <td>2022</td>\n",
       "      <td>6392.4</td>\n",
       "      <td>4722.5</td>\n",
       "      <td>19.70</td>\n",
       "      <td>12.70</td>\n",
       "      <td>26.80</td>\n",
       "      <td>136.20</td>\n",
       "      <td>0.12</td>\n",
       "      <td>3</td>\n",
       "      <td>570.0</td>\n",
       "    </tr>\n",
       "  </tbody>\n",
       "</table>\n",
       "<p>120 rows × 10 columns</p>\n",
       "</div>"
      ],
      "text/plain": [
       "     Year  Planted Area  Harvested Area  Temp_mean  Temp_min  Temp_max  \\\n",
       "0    1999      506626.9         40875.9      19.73     12.48     27.03   \n",
       "1    2000      476437.7        182036.7      18.94     11.71     26.22   \n",
       "2    2001      443559.5        134494.7      19.76     12.60     26.97   \n",
       "3    2002      427042.7        327454.4      19.52     12.41     26.68   \n",
       "4    2003      500622.8        297813.0      19.50     12.50     26.54   \n",
       "..    ...           ...             ...        ...       ...       ...   \n",
       "115  2018        8231.4          5341.7      20.44     13.50     27.44   \n",
       "116  2019         935.0           532.6      19.89     12.88     26.96   \n",
       "117  2020        2927.8          1904.3      19.90     12.90     26.90   \n",
       "118  2021        4561.9          3017.3      20.30     13.10     27.60   \n",
       "119  2022        6392.4          4722.5      19.70     12.70     26.80   \n",
       "\n",
       "     Precipitation  Average Yield  crop  Production  \n",
       "0            66.53           0.23     4      9250.5  \n",
       "1            96.50           0.14     4     25433.7  \n",
       "2           104.04           0.14     4     19293.0  \n",
       "3           126.07           0.13     4     43770.8  \n",
       "4           133.74           0.14     4     42526.0  \n",
       "..             ...            ...   ...         ...  \n",
       "115         122.96           0.07     3       371.6  \n",
       "116         112.83           0.07     3        38.4  \n",
       "117         145.40           0.43     3       819.1  \n",
       "118          89.20           0.34     3      1012.5  \n",
       "119         136.20           0.12     3       570.0  \n",
       "\n",
       "[120 rows x 10 columns]"
      ]
     },
     "execution_count": 4,
     "metadata": {},
     "output_type": "execute_result"
    }
   ],
   "source": [
    "df.crop=df.crop.astype('category').cat.codes\n",
    "df"
   ]
  },
  {
   "cell_type": "code",
   "execution_count": 8,
   "id": "4b8fddfa-b3d6-46cd-8b64-da868f3d3c83",
   "metadata": {},
   "outputs": [
    {
     "name": "stdout",
     "output_type": "stream",
     "text": [
      "<bound method Series.unique of 0      1999\n",
      "1      2000\n",
      "2      2001\n",
      "3      2002\n",
      "4      2003\n",
      "       ... \n",
      "115    2018\n",
      "116    2019\n",
      "117    2020\n",
      "118    2021\n",
      "119    2022\n",
      "Name: Year, Length: 120, dtype: int64>\n"
     ]
    }
   ],
   "source": [
    "print(df['Year'].unique)"
   ]
  },
  {
   "cell_type": "code",
   "execution_count": 9,
   "id": "cb911524-e443-4536-a477-7c4481cf3385",
   "metadata": {},
   "outputs": [],
   "source": [
    "X = df.drop(['Production'], axis=1)\n",
    "y = df['Production']"
   ]
  },
  {
   "cell_type": "code",
   "execution_count": 10,
   "id": "49b98ee7-42c6-441d-bc1d-f2020429ae98",
   "metadata": {},
   "outputs": [
    {
     "data": {
      "text/html": [
       "<div>\n",
       "<style scoped>\n",
       "    .dataframe tbody tr th:only-of-type {\n",
       "        vertical-align: middle;\n",
       "    }\n",
       "\n",
       "    .dataframe tbody tr th {\n",
       "        vertical-align: top;\n",
       "    }\n",
       "\n",
       "    .dataframe thead th {\n",
       "        text-align: right;\n",
       "    }\n",
       "</style>\n",
       "<table border=\"1\" class=\"dataframe\">\n",
       "  <thead>\n",
       "    <tr style=\"text-align: right;\">\n",
       "      <th></th>\n",
       "      <th>Year</th>\n",
       "      <th>Planted Area</th>\n",
       "      <th>Harvested Area</th>\n",
       "      <th>Temp_mean</th>\n",
       "      <th>Temp_min</th>\n",
       "      <th>Temp_max</th>\n",
       "      <th>Precipitation</th>\n",
       "      <th>Average Yield</th>\n",
       "      <th>crop</th>\n",
       "    </tr>\n",
       "  </thead>\n",
       "  <tbody>\n",
       "    <tr>\n",
       "      <th>0</th>\n",
       "      <td>1999</td>\n",
       "      <td>506626.9</td>\n",
       "      <td>40875.9</td>\n",
       "      <td>19.73</td>\n",
       "      <td>12.48</td>\n",
       "      <td>27.03</td>\n",
       "      <td>66.53</td>\n",
       "      <td>0.23</td>\n",
       "      <td>4</td>\n",
       "    </tr>\n",
       "    <tr>\n",
       "      <th>1</th>\n",
       "      <td>2000</td>\n",
       "      <td>476437.7</td>\n",
       "      <td>182036.7</td>\n",
       "      <td>18.94</td>\n",
       "      <td>11.71</td>\n",
       "      <td>26.22</td>\n",
       "      <td>96.50</td>\n",
       "      <td>0.14</td>\n",
       "      <td>4</td>\n",
       "    </tr>\n",
       "    <tr>\n",
       "      <th>2</th>\n",
       "      <td>2001</td>\n",
       "      <td>443559.5</td>\n",
       "      <td>134494.7</td>\n",
       "      <td>19.76</td>\n",
       "      <td>12.60</td>\n",
       "      <td>26.97</td>\n",
       "      <td>104.04</td>\n",
       "      <td>0.14</td>\n",
       "      <td>4</td>\n",
       "    </tr>\n",
       "    <tr>\n",
       "      <th>3</th>\n",
       "      <td>2002</td>\n",
       "      <td>427042.7</td>\n",
       "      <td>327454.4</td>\n",
       "      <td>19.52</td>\n",
       "      <td>12.41</td>\n",
       "      <td>26.68</td>\n",
       "      <td>126.07</td>\n",
       "      <td>0.13</td>\n",
       "      <td>4</td>\n",
       "    </tr>\n",
       "    <tr>\n",
       "      <th>4</th>\n",
       "      <td>2003</td>\n",
       "      <td>500622.8</td>\n",
       "      <td>297813.0</td>\n",
       "      <td>19.50</td>\n",
       "      <td>12.50</td>\n",
       "      <td>26.54</td>\n",
       "      <td>133.74</td>\n",
       "      <td>0.14</td>\n",
       "      <td>4</td>\n",
       "    </tr>\n",
       "    <tr>\n",
       "      <th>...</th>\n",
       "      <td>...</td>\n",
       "      <td>...</td>\n",
       "      <td>...</td>\n",
       "      <td>...</td>\n",
       "      <td>...</td>\n",
       "      <td>...</td>\n",
       "      <td>...</td>\n",
       "      <td>...</td>\n",
       "      <td>...</td>\n",
       "    </tr>\n",
       "    <tr>\n",
       "      <th>115</th>\n",
       "      <td>2018</td>\n",
       "      <td>8231.4</td>\n",
       "      <td>5341.7</td>\n",
       "      <td>20.44</td>\n",
       "      <td>13.50</td>\n",
       "      <td>27.44</td>\n",
       "      <td>122.96</td>\n",
       "      <td>0.07</td>\n",
       "      <td>3</td>\n",
       "    </tr>\n",
       "    <tr>\n",
       "      <th>116</th>\n",
       "      <td>2019</td>\n",
       "      <td>935.0</td>\n",
       "      <td>532.6</td>\n",
       "      <td>19.89</td>\n",
       "      <td>12.88</td>\n",
       "      <td>26.96</td>\n",
       "      <td>112.83</td>\n",
       "      <td>0.07</td>\n",
       "      <td>3</td>\n",
       "    </tr>\n",
       "    <tr>\n",
       "      <th>117</th>\n",
       "      <td>2020</td>\n",
       "      <td>2927.8</td>\n",
       "      <td>1904.3</td>\n",
       "      <td>19.90</td>\n",
       "      <td>12.90</td>\n",
       "      <td>26.90</td>\n",
       "      <td>145.40</td>\n",
       "      <td>0.43</td>\n",
       "      <td>3</td>\n",
       "    </tr>\n",
       "    <tr>\n",
       "      <th>118</th>\n",
       "      <td>2021</td>\n",
       "      <td>4561.9</td>\n",
       "      <td>3017.3</td>\n",
       "      <td>20.30</td>\n",
       "      <td>13.10</td>\n",
       "      <td>27.60</td>\n",
       "      <td>89.20</td>\n",
       "      <td>0.34</td>\n",
       "      <td>3</td>\n",
       "    </tr>\n",
       "    <tr>\n",
       "      <th>119</th>\n",
       "      <td>2022</td>\n",
       "      <td>6392.4</td>\n",
       "      <td>4722.5</td>\n",
       "      <td>19.70</td>\n",
       "      <td>12.70</td>\n",
       "      <td>26.80</td>\n",
       "      <td>136.20</td>\n",
       "      <td>0.12</td>\n",
       "      <td>3</td>\n",
       "    </tr>\n",
       "  </tbody>\n",
       "</table>\n",
       "<p>120 rows × 9 columns</p>\n",
       "</div>"
      ],
      "text/plain": [
       "     Year  Planted Area  Harvested Area  Temp_mean  Temp_min  Temp_max  \\\n",
       "0    1999      506626.9         40875.9      19.73     12.48     27.03   \n",
       "1    2000      476437.7        182036.7      18.94     11.71     26.22   \n",
       "2    2001      443559.5        134494.7      19.76     12.60     26.97   \n",
       "3    2002      427042.7        327454.4      19.52     12.41     26.68   \n",
       "4    2003      500622.8        297813.0      19.50     12.50     26.54   \n",
       "..    ...           ...             ...        ...       ...       ...   \n",
       "115  2018        8231.4          5341.7      20.44     13.50     27.44   \n",
       "116  2019         935.0           532.6      19.89     12.88     26.96   \n",
       "117  2020        2927.8          1904.3      19.90     12.90     26.90   \n",
       "118  2021        4561.9          3017.3      20.30     13.10     27.60   \n",
       "119  2022        6392.4          4722.5      19.70     12.70     26.80   \n",
       "\n",
       "     Precipitation  Average Yield  crop  \n",
       "0            66.53           0.23     4  \n",
       "1            96.50           0.14     4  \n",
       "2           104.04           0.14     4  \n",
       "3           126.07           0.13     4  \n",
       "4           133.74           0.14     4  \n",
       "..             ...            ...   ...  \n",
       "115         122.96           0.07     3  \n",
       "116         112.83           0.07     3  \n",
       "117         145.40           0.43     3  \n",
       "118          89.20           0.34     3  \n",
       "119         136.20           0.12     3  \n",
       "\n",
       "[120 rows x 9 columns]"
      ]
     },
     "execution_count": 10,
     "metadata": {},
     "output_type": "execute_result"
    }
   ],
   "source": [
    "X"
   ]
  },
  {
   "cell_type": "code",
   "execution_count": 11,
   "id": "93f18850-4dae-4d3e-bc89-34421c026274",
   "metadata": {},
   "outputs": [],
   "source": [
    "from sklearn.model_selection import train_test_split\n",
    "X_train, X_test, y_train, y_test = train_test_split(X, y, test_size=0.2, random_state=42)"
   ]
  },
  {
   "cell_type": "code",
   "execution_count": 12,
   "id": "d6f52693-51e8-463f-bd9d-94481b61d528",
   "metadata": {},
   "outputs": [],
   "source": [
    "from sklearn.linear_model import LinearRegression\n",
    "model = LinearRegression()"
   ]
  },
  {
   "cell_type": "code",
   "execution_count": 13,
   "id": "286b6c63-2db0-4515-8a09-fa52ba3c3e69",
   "metadata": {},
   "outputs": [
    {
     "data": {
      "text/html": [
       "<style>#sk-container-id-1 {color: black;background-color: white;}#sk-container-id-1 pre{padding: 0;}#sk-container-id-1 div.sk-toggleable {background-color: white;}#sk-container-id-1 label.sk-toggleable__label {cursor: pointer;display: block;width: 100%;margin-bottom: 0;padding: 0.3em;box-sizing: border-box;text-align: center;}#sk-container-id-1 label.sk-toggleable__label-arrow:before {content: \"▸\";float: left;margin-right: 0.25em;color: #696969;}#sk-container-id-1 label.sk-toggleable__label-arrow:hover:before {color: black;}#sk-container-id-1 div.sk-estimator:hover label.sk-toggleable__label-arrow:before {color: black;}#sk-container-id-1 div.sk-toggleable__content {max-height: 0;max-width: 0;overflow: hidden;text-align: left;background-color: #f0f8ff;}#sk-container-id-1 div.sk-toggleable__content pre {margin: 0.2em;color: black;border-radius: 0.25em;background-color: #f0f8ff;}#sk-container-id-1 input.sk-toggleable__control:checked~div.sk-toggleable__content {max-height: 200px;max-width: 100%;overflow: auto;}#sk-container-id-1 input.sk-toggleable__control:checked~label.sk-toggleable__label-arrow:before {content: \"▾\";}#sk-container-id-1 div.sk-estimator input.sk-toggleable__control:checked~label.sk-toggleable__label {background-color: #d4ebff;}#sk-container-id-1 div.sk-label input.sk-toggleable__control:checked~label.sk-toggleable__label {background-color: #d4ebff;}#sk-container-id-1 input.sk-hidden--visually {border: 0;clip: rect(1px 1px 1px 1px);clip: rect(1px, 1px, 1px, 1px);height: 1px;margin: -1px;overflow: hidden;padding: 0;position: absolute;width: 1px;}#sk-container-id-1 div.sk-estimator {font-family: monospace;background-color: #f0f8ff;border: 1px dotted black;border-radius: 0.25em;box-sizing: border-box;margin-bottom: 0.5em;}#sk-container-id-1 div.sk-estimator:hover {background-color: #d4ebff;}#sk-container-id-1 div.sk-parallel-item::after {content: \"\";width: 100%;border-bottom: 1px solid gray;flex-grow: 1;}#sk-container-id-1 div.sk-label:hover label.sk-toggleable__label {background-color: #d4ebff;}#sk-container-id-1 div.sk-serial::before {content: \"\";position: absolute;border-left: 1px solid gray;box-sizing: border-box;top: 0;bottom: 0;left: 50%;z-index: 0;}#sk-container-id-1 div.sk-serial {display: flex;flex-direction: column;align-items: center;background-color: white;padding-right: 0.2em;padding-left: 0.2em;position: relative;}#sk-container-id-1 div.sk-item {position: relative;z-index: 1;}#sk-container-id-1 div.sk-parallel {display: flex;align-items: stretch;justify-content: center;background-color: white;position: relative;}#sk-container-id-1 div.sk-item::before, #sk-container-id-1 div.sk-parallel-item::before {content: \"\";position: absolute;border-left: 1px solid gray;box-sizing: border-box;top: 0;bottom: 0;left: 50%;z-index: -1;}#sk-container-id-1 div.sk-parallel-item {display: flex;flex-direction: column;z-index: 1;position: relative;background-color: white;}#sk-container-id-1 div.sk-parallel-item:first-child::after {align-self: flex-end;width: 50%;}#sk-container-id-1 div.sk-parallel-item:last-child::after {align-self: flex-start;width: 50%;}#sk-container-id-1 div.sk-parallel-item:only-child::after {width: 0;}#sk-container-id-1 div.sk-dashed-wrapped {border: 1px dashed gray;margin: 0 0.4em 0.5em 0.4em;box-sizing: border-box;padding-bottom: 0.4em;background-color: white;}#sk-container-id-1 div.sk-label label {font-family: monospace;font-weight: bold;display: inline-block;line-height: 1.2em;}#sk-container-id-1 div.sk-label-container {text-align: center;}#sk-container-id-1 div.sk-container {/* jupyter's `normalize.less` sets `[hidden] { display: none; }` but bootstrap.min.css set `[hidden] { display: none !important; }` so we also need the `!important` here to be able to override the default hidden behavior on the sphinx rendered scikit-learn.org. See: https://github.com/scikit-learn/scikit-learn/issues/21755 */display: inline-block !important;position: relative;}#sk-container-id-1 div.sk-text-repr-fallback {display: none;}</style><div id=\"sk-container-id-1\" class=\"sk-top-container\"><div class=\"sk-text-repr-fallback\"><pre>LinearRegression()</pre><b>In a Jupyter environment, please rerun this cell to show the HTML representation or trust the notebook. <br />On GitHub, the HTML representation is unable to render, please try loading this page with nbviewer.org.</b></div><div class=\"sk-container\" hidden><div class=\"sk-item\"><div class=\"sk-estimator sk-toggleable\"><input class=\"sk-toggleable__control sk-hidden--visually\" id=\"sk-estimator-id-1\" type=\"checkbox\" checked><label for=\"sk-estimator-id-1\" class=\"sk-toggleable__label sk-toggleable__label-arrow\">LinearRegression</label><div class=\"sk-toggleable__content\"><pre>LinearRegression()</pre></div></div></div></div></div>"
      ],
      "text/plain": [
       "LinearRegression()"
      ]
     },
     "execution_count": 13,
     "metadata": {},
     "output_type": "execute_result"
    }
   ],
   "source": [
    "model.fit(X_train, y_train)"
   ]
  },
  {
   "cell_type": "code",
   "execution_count": 14,
   "id": "8d08ae1d-31c9-4976-937f-8c3cca4538f3",
   "metadata": {},
   "outputs": [],
   "source": [
    "y_pred = model.predict(X_test)"
   ]
  },
  {
   "cell_type": "code",
   "execution_count": 15,
   "id": "be636b8b-9d84-446f-b86b-9a2e6d3129a7",
   "metadata": {},
   "outputs": [
    {
     "name": "stdout",
     "output_type": "stream",
     "text": [
      "Coefficients: [ 2.24711652e+01 -3.28774525e-03  1.14711906e-01 -7.71040012e+04\n",
      "  4.37772247e+04  3.46707089e+04 -5.51887205e+00  5.14100333e+03\n",
      "  1.30483296e+03]\n"
     ]
    }
   ],
   "source": [
    "print(\"Coefficients:\", model.coef_)"
   ]
  },
  {
   "cell_type": "code",
   "execution_count": 16,
   "id": "3bbc9ccc-b092-4a18-8d91-c3f60461b0d8",
   "metadata": {},
   "outputs": [
    {
     "name": "stdout",
     "output_type": "stream",
     "text": [
      "Intercept: -10877.321672448796\n"
     ]
    }
   ],
   "source": [
    "print(\"Intercept:\", model.intercept_)"
   ]
  },
  {
   "cell_type": "code",
   "execution_count": 17,
   "id": "f809919e-eefd-4c1e-a947-08757ab970fc",
   "metadata": {},
   "outputs": [
    {
     "name": "stdout",
     "output_type": "stream",
     "text": [
      "Mean Squared Error (MSE): 66697815.977712475\n",
      "R-squared: 0.866023170528435\n"
     ]
    }
   ],
   "source": [
    "from sklearn.metrics import mean_squared_error, r2_score\n",
    "\n",
    "# After making predictions on the testing set (y_pred)\n",
    "mse = mean_squared_error(y_test, y_pred)\n",
    "r2 = r2_score(y_test, y_pred)\n",
    "\n",
    "# Print the performance metrics\n",
    "print(\"Mean Squared Error (MSE):\", mse)\n",
    "print(\"R-squared:\", r2)"
   ]
  },
  {
   "cell_type": "markdown",
   "id": "de94dd14-9d85-4540-a3a3-3b8d81b6773f",
   "metadata": {},
   "source": [
    "## Wheat LR"
   ]
  },
  {
   "cell_type": "code",
   "execution_count": 19,
   "id": "e9074bc9-8db6-4646-b677-bfcfe5971b82",
   "metadata": {},
   "outputs": [],
   "source": [
    "wheat_data = df[df['crop'] == 4]\n",
    "Xw = wheat_data.drop(['Production'], axis=1)\n",
    "yw = wheat_data['Production']\n",
    "#wheat_planted = wheat_data['Planted Area']\n",
    "#wheat_production = wheat_data['Production']"
   ]
  },
  {
   "cell_type": "code",
   "execution_count": 20,
   "id": "267cc50a-e238-4ca4-9545-e1501c462b35",
   "metadata": {},
   "outputs": [],
   "source": [
    "X_trainw, X_testw, y_trainw, y_testw = train_test_split(Xw, yw, test_size=0.2, random_state=42)"
   ]
  },
  {
   "cell_type": "code",
   "execution_count": 21,
   "id": "0ddd2fdc-6cce-478f-b5c4-5bc3e47159e7",
   "metadata": {},
   "outputs": [],
   "source": [
    "model_w = LinearRegression()\n",
    "model_w.fit(X_trainw, y_trainw)\n",
    "y_predw = model.predict(X_testw)"
   ]
  },
  {
   "cell_type": "code",
   "execution_count": 22,
   "id": "948a0b5c-0024-476c-aab3-9d818c3993ac",
   "metadata": {},
   "outputs": [
    {
     "name": "stdout",
     "output_type": "stream",
     "text": [
      "Coefficients: [-5.45731177e+02 -1.64119526e-02  1.27802734e-01 -3.67467025e+04\n",
      "  1.33131016e+04  2.70150702e+04  1.05309685e+02  1.46362837e+05\n",
      "  0.00000000e+00]\n"
     ]
    }
   ],
   "source": [
    "print(\"Coefficients:\", model_w.coef_)"
   ]
  },
  {
   "cell_type": "code",
   "execution_count": 23,
   "id": "8165a864-a6ce-461e-8258-a2bf5f16be50",
   "metadata": {},
   "outputs": [
    {
     "name": "stdout",
     "output_type": "stream",
     "text": [
      "Intercept: 901546.1224140737\n"
     ]
    }
   ],
   "source": [
    "print(\"Intercept:\", model_w.intercept_)"
   ]
  },
  {
   "cell_type": "code",
   "execution_count": 24,
   "id": "5291c5f7-b1b6-427a-b848-bbc172aea1eb",
   "metadata": {},
   "outputs": [
    {
     "name": "stdout",
     "output_type": "stream",
     "text": [
      "Mean Squared Error (MSE): 15317280.148065481\n",
      "R-squared: 0.48954323889368934\n"
     ]
    }
   ],
   "source": [
    "msew = mean_squared_error(y_testw, y_predw)\n",
    "r2w = r2_score(y_testw, y_predw)\n",
    "# Print the performance metrics\n",
    "print(\"Mean Squared Error (MSE):\", msew)\n",
    "print(\"R-squared:\", r2w)"
   ]
  },
  {
   "cell_type": "markdown",
   "id": "cbfc301d-e113-40d3-a8cc-168331eb7713",
   "metadata": {},
   "source": [
    "## Barley LR"
   ]
  },
  {
   "cell_type": "code",
   "execution_count": 25,
   "id": "f7c57c04-f3cf-487b-960b-e13f38c9c35c",
   "metadata": {},
   "outputs": [],
   "source": [
    "barley_data = df[df['crop'] == 3]\n",
    "Xb = barley_data.drop(['Production'], axis=1)\n",
    "yb = barley_data['Production']\n",
    "#wheat_planted = wheat_data['Planted Area']\n",
    "#wheat_production = wheat_data['Production']"
   ]
  },
  {
   "cell_type": "code",
   "execution_count": 26,
   "id": "ae766819-773b-450b-8cd3-535efb167d86",
   "metadata": {},
   "outputs": [],
   "source": [
    "X_trainb, X_testb, y_trainb, y_testb = train_test_split(Xb, yb, test_size=0.2, random_state=42)\n",
    "model_b = LinearRegression()\n",
    "model_b.fit(X_trainb, y_trainb)\n",
    "y_predb = model.predict(X_testb)"
   ]
  },
  {
   "cell_type": "code",
   "execution_count": 27,
   "id": "6e372c85-3aed-4ffe-89a3-521faea57ab7",
   "metadata": {},
   "outputs": [
    {
     "name": "stdout",
     "output_type": "stream",
     "text": [
      "Coefficients: [-2.06910419e+01 -2.18398740e-02  1.38082414e-01 -1.26541780e+04\n",
      "  6.64340256e+03  6.40425873e+03  2.51283308e+00  3.66151200e+03\n",
      "  0.00000000e+00]\n"
     ]
    }
   ],
   "source": [
    "print(\"Coefficients:\", model_b.coef_)"
   ]
  },
  {
   "cell_type": "code",
   "execution_count": 28,
   "id": "54308ae3-34a7-4478-a191-aa88a3c03038",
   "metadata": {},
   "outputs": [
    {
     "name": "stdout",
     "output_type": "stream",
     "text": [
      "Intercept: 34437.31955930202\n"
     ]
    }
   ],
   "source": [
    "print(\"Intercept:\", model_b.intercept_)"
   ]
  },
  {
   "cell_type": "code",
   "execution_count": 29,
   "id": "4016eb26-cf90-4a80-a2f2-d468f1ef81aa",
   "metadata": {},
   "outputs": [
    {
     "name": "stdout",
     "output_type": "stream",
     "text": [
      "Mean Squared Error (MSE): 2949199.405264253\n",
      "R-squared: -0.14465463855204663\n"
     ]
    }
   ],
   "source": [
    "mseb = mean_squared_error(y_testb, y_predb)\n",
    "r2b = r2_score(y_testb, y_predb)\n",
    "# Print the performance metrics\n",
    "print(\"Mean Squared Error (MSE):\", mseb)\n",
    "print(\"R-squared:\", r2b)"
   ]
  },
  {
   "cell_type": "markdown",
   "id": "251ebf4e-f9fe-4065-b01d-18011ab8df89",
   "metadata": {},
   "source": [
    "## Lentil LR"
   ]
  },
  {
   "cell_type": "code",
   "execution_count": 30,
   "id": "82674e49-d937-460d-b0ce-44415505a024",
   "metadata": {},
   "outputs": [],
   "source": [
    "Lentil_data = df[df['crop'] == 2]\n",
    "Xl = Lentil_data.drop(['Production'], axis=1)\n",
    "yl = Lentil_data['Production']\n",
    "#wheat_planted = wheat_data['Planted Area']\n",
    "#wheat_production = wheat_data['Production']"
   ]
  },
  {
   "cell_type": "code",
   "execution_count": 31,
   "id": "434a41c8-57f1-4941-9ebd-0eab281b039a",
   "metadata": {},
   "outputs": [],
   "source": [
    "X_trainl, X_testl, y_trainl, y_testl = train_test_split(Xl, yl, test_size=0.2, random_state=42)\n",
    "model_l = LinearRegression()\n",
    "model_l.fit(X_trainl, y_trainl)\n",
    "y_predl = model.predict(X_testl)"
   ]
  },
  {
   "cell_type": "code",
   "execution_count": 32,
   "id": "4fccaadb-2f99-49db-bc35-8d7cce0bd713",
   "metadata": {},
   "outputs": [
    {
     "name": "stdout",
     "output_type": "stream",
     "text": [
      "Coefficients: [-5.65629049e+01  1.76046105e-01 -1.41102788e-01 -1.57917972e+04\n",
      "  6.92962131e+03  8.89734598e+03  1.23738588e+01  2.52120006e+03\n",
      "  0.00000000e+00]\n"
     ]
    }
   ],
   "source": [
    "print(\"Coefficients:\", model_l.coef_)"
   ]
  },
  {
   "cell_type": "code",
   "execution_count": 33,
   "id": "672c4e7b-7b12-4d63-9a8f-3f51edb0c664",
   "metadata": {},
   "outputs": [
    {
     "name": "stdout",
     "output_type": "stream",
     "text": [
      "Intercept: 97059.24151762539\n"
     ]
    }
   ],
   "source": [
    "print(\"Intercept:\", model_l.intercept_)"
   ]
  },
  {
   "cell_type": "code",
   "execution_count": 34,
   "id": "af83304d-b49d-474e-8504-7f4f76b00b6e",
   "metadata": {},
   "outputs": [
    {
     "name": "stdout",
     "output_type": "stream",
     "text": [
      "Mean Squared Error (MSE): 1331457.4642626964\n",
      "R-squared: -85.58030790870389\n"
     ]
    }
   ],
   "source": [
    "msel = mean_squared_error(y_testl, y_predl)\n",
    "r2l = r2_score(y_testl, y_predl)\n",
    "# Print the performance metrics\n",
    "print(\"Mean Squared Error (MSE):\", msel)\n",
    "print(\"R-squared:\", r2l)"
   ]
  },
  {
   "cell_type": "markdown",
   "id": "c8b0c797-5034-4e7f-bb82-0babfa0242da",
   "metadata": {},
   "source": [
    "## Chickpea LR"
   ]
  },
  {
   "cell_type": "code",
   "execution_count": 35,
   "id": "c9084f1b-cf7a-43fc-929c-5f9fb2ed077a",
   "metadata": {},
   "outputs": [],
   "source": [
    "Chickpea_data = df[df['crop'] == 1]\n",
    "Xc = Chickpea_data.drop(['Production'], axis=1)\n",
    "yc = Chickpea_data['Production']\n",
    "#wheat_planted = wheat_data['Planted Area']\n",
    "#wheat_production = wheat_data['Production']"
   ]
  },
  {
   "cell_type": "code",
   "execution_count": 36,
   "id": "90446d78-c604-4ae1-80e3-dc1ae3015f73",
   "metadata": {},
   "outputs": [],
   "source": [
    "X_trainc, X_testc, y_trainc, y_testc = train_test_split(Xc, yc, test_size=0.2, random_state=42)\n",
    "model_c = LinearRegression()\n",
    "model_c.fit(X_trainc, y_trainc)\n",
    "y_predc = model.predict(X_testc)"
   ]
  },
  {
   "cell_type": "code",
   "execution_count": 37,
   "id": "791fc2a2-be2a-4225-88c2-4e4a2386c9b4",
   "metadata": {},
   "outputs": [
    {
     "name": "stdout",
     "output_type": "stream",
     "text": [
      "Coefficients: [-5.65629049e+01  1.76046105e-01 -1.41102788e-01 -1.57917972e+04\n",
      "  6.92962131e+03  8.89734598e+03  1.23738588e+01  2.52120006e+03\n",
      "  0.00000000e+00]\n"
     ]
    }
   ],
   "source": [
    "print(\"Coefficients:\", model_l.coef_)"
   ]
  },
  {
   "cell_type": "code",
   "execution_count": 38,
   "id": "86246dbb-8970-475e-841c-254440d4a913",
   "metadata": {},
   "outputs": [
    {
     "name": "stdout",
     "output_type": "stream",
     "text": [
      "Intercept: 97059.24151762539\n"
     ]
    }
   ],
   "source": [
    "print(\"Intercept:\", model_l.intercept_)"
   ]
  },
  {
   "cell_type": "code",
   "execution_count": 39,
   "id": "7a8b56ad-1f04-4546-bd04-b5c92f83464f",
   "metadata": {},
   "outputs": [
    {
     "name": "stdout",
     "output_type": "stream",
     "text": [
      "Mean Squared Error (MSE): 1331457.4642626964\n",
      "R-squared: -85.58030790870389\n"
     ]
    }
   ],
   "source": [
    "msel = mean_squared_error(y_testl, y_predl)\n",
    "r2l = r2_score(y_testl, y_predl)\n",
    "# Print the performance metrics\n",
    "print(\"Mean Squared Error (MSE):\", msel)\n",
    "print(\"R-squared:\", r2l)"
   ]
  },
  {
   "cell_type": "code",
   "execution_count": 40,
   "id": "9f6ed5fe-0fb6-4474-b266-33e1ff0a9c75",
   "metadata": {},
   "outputs": [
    {
     "data": {
      "text/plain": [
       "24"
      ]
     },
     "execution_count": 40,
     "metadata": {},
     "output_type": "execute_result"
    }
   ],
   "source": [
    "yc.count()"
   ]
  },
  {
   "cell_type": "code",
   "execution_count": 41,
   "id": "ed0c050c-a3f1-4939-8e51-902f6e2783e7",
   "metadata": {},
   "outputs": [
    {
     "data": {
      "image/png": "[encoded data removed]",
      "text/plain": [
       "<Figure size 2250x250 with 9 Axes>"
      ]
     },
     "metadata": {},
     "output_type": "display_data"
    }
   ],
   "source": [
    "import matplotlib.pyplot as plt\n",
    "import seaborn as sns\n",
    "sns.pairplot(Chickpea_data, x_vars=Chickpea_data.columns[:-1], y_vars='Production')  # Exclude the target column from x_vars\n",
    "plt.show()"
   ]
  },
  {
   "cell_type": "code",
   "execution_count": null,
   "id": "7fb8bb2d-4053-4b7a-8703-f74348086414",
   "metadata": {},
   "outputs": [],
   "source": []
  }
 ],
 "metadata": {
  "kernelspec": {
   "display_name": "Python 3 (ipykernel)",
   "language": "python",
   "name": "python3"
  },
  "language_info": {
   "codemirror_mode": {
    "name": "ipython",
    "version": 3
   },
   "file_extension": ".py",
   "mimetype": "text/x-python",
   "name": "python",
   "nbconvert_exporter": "python",
   "pygments_lexer": "ipython3",
   "version": "3.11.7"
  }
 },
 "nbformat": 4,
 "nbformat_minor": 5
}
