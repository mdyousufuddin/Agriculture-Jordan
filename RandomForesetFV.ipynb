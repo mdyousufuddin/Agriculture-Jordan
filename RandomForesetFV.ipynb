{
 "cells": [
  {
   "cell_type": "code",
   "execution_count": 1,
   "id": "6e5aa424-9705-4f16-a09e-970c6faaa4ce",
   "metadata": {},
   "outputs": [],
   "source": [
    "import pandas as pd\n",
    "import matplotlib.pyplot as plt\n",
    "import seaborn as sns\n",
    "import sklearn\n",
    "import warnings\n",
    "from sklearn.preprocessing import LabelEncoder\n",
    "from sklearn.impute import KNNImputer\n",
    "from sklearn.model_selection import train_test_split\n",
    "from sklearn.preprocessing import StandardScaler\n",
    "from sklearn.metrics import f1_score\n",
    "from sklearn.ensemble import RandomForestRegressor\n",
    "from sklearn.ensemble import RandomForestRegressor\n",
    "from sklearn.model_selection import cross_val_score\n",
    "warnings.filterwarnings('ignore')\n",
    "import numpy as np"
   ]
  },
  {
   "cell_type": "code",
   "execution_count": 2,
   "id": "74da8b3c-a3e7-47c3-ad5c-167fe0217e61",
   "metadata": {},
   "outputs": [],
   "source": [
    "df = pd.read_csv('jordan.csv')"
   ]
  },
  {
   "cell_type": "code",
   "execution_count": 3,
   "id": "8a4cd816-6735-4517-86d2-70d0b789211c",
   "metadata": {},
   "outputs": [
    {
     "name": "stdout",
     "output_type": "stream",
     "text": [
      "<class 'pandas.core.frame.DataFrame'>\n",
      "RangeIndex: 120 entries, 0 to 119\n",
      "Data columns (total 10 columns):\n",
      " #   Column          Non-Null Count  Dtype  \n",
      "---  ------          --------------  -----  \n",
      " 0   Year            120 non-null    int64  \n",
      " 1   Planted Area    120 non-null    float64\n",
      " 2   Harvested Area  120 non-null    float64\n",
      " 3   Temp_mean       120 non-null    float64\n",
      " 4   Temp_min        120 non-null    float64\n",
      " 5   Temp_max        120 non-null    float64\n",
      " 6   Precipitation   120 non-null    float64\n",
      " 7   Average Yield   120 non-null    float64\n",
      " 8   crop            120 non-null    object \n",
      " 9   Production      120 non-null    float64\n",
      "dtypes: float64(8), int64(1), object(1)\n",
      "memory usage: 9.5+ KB\n"
     ]
    }
   ],
   "source": [
    "df.info()"
   ]
  },
  {
   "cell_type": "code",
   "execution_count": 4,
   "id": "16885f14-bfb7-4305-8335-46d6df420a87",
   "metadata": {},
   "outputs": [],
   "source": [
    "'''# One-Hot Encode categorical features (if any)\n",
    "categorical_features = [col for col in df if df[col].dtype == object]\n",
    "for col in categorical_features:\n",
    "    df = pd.get_dummies(df, columns=[col])'''"
   ]
  },
  {
   "cell_type": "code",
   "execution_count": null,
   "id": "cb0a1735-a0f7-4bec-9c8a-aae8da5608ae",
   "metadata": {},
   "outputs": [],
   "source": []
  },
  {
   "cell_type": "code",
   "execution_count": 6,
   "id": "daf113bb-a5f1-4be6-b42c-73989a5e4e2e",
   "metadata": {},
   "outputs": [
    {
     "name": "stdout",
     "output_type": "stream",
     "text": [
      "<class 'pandas.core.frame.DataFrame'>\n",
      "RangeIndex: 120 entries, 0 to 119\n",
      "Data columns (total 14 columns):\n",
      " #   Column          Non-Null Count  Dtype  \n",
      "---  ------          --------------  -----  \n",
      " 0   Year            120 non-null    int64  \n",
      " 1   Planted Area    120 non-null    float64\n",
      " 2   Harvested Area  120 non-null    float64\n",
      " 3   Temp_mean       120 non-null    float64\n",
      " 4   Temp_min        120 non-null    float64\n",
      " 5   Temp_max        120 non-null    float64\n",
      " 6   Precipitation   120 non-null    float64\n",
      " 7   Average Yield   120 non-null    float64\n",
      " 8   Production      120 non-null    float64\n",
      " 9   crop_Barley     120 non-null    bool   \n",
      " 10  crop_Chickpea   120 non-null    bool   \n",
      " 11  crop_Lentil     120 non-null    bool   \n",
      " 12  crop_Vetch      120 non-null    bool   \n",
      " 13  crop_Wheat      120 non-null    bool   \n",
      "dtypes: bool(5), float64(8), int64(1)\n",
      "memory usage: 9.2 KB\n"
     ]
    }
   ],
   "source": [
    "df.info()"
   ]
  },
  {
   "cell_type": "code",
   "execution_count": 7,
   "id": "355c9841-8506-417f-9a0c-59bafc2d41e2",
   "metadata": {},
   "outputs": [],
   "source": [
    "X = df.iloc[:,[0,1,2,3,4,5,6,7,9,10,11,12,13]].values  #features\n",
    "y = df.iloc[:,8].values  # Target variable"
   ]
  },
  {
   "cell_type": "code",
   "execution_count": 8,
   "id": "024b3331-4894-4ad4-be9d-99fa55232853",
   "metadata": {},
   "outputs": [],
   "source": [
    "from sklearn.preprocessing import PowerTransformer\n",
    "pt = PowerTransformer()\n",
    "X_transformed = pt.fit_transform(X)\n",
    "Y_log = np.log(y + 1)"
   ]
  },
  {
   "cell_type": "code",
   "execution_count": 34,
   "id": "f05e6a5c-7c9a-4e2c-b4ab-c44be5b72fcd",
   "metadata": {},
   "outputs": [
    {
     "data": {
      "text/plain": [
       "array([[-1.24627847e+00,  1.09102324e+00,  1.12377952e+00,\n",
       "        -4.46874581e-01, -1.24900090e-16, -1.52655666e-16,\n",
       "         4.87754170e-01, -1.18353584e-01, -4.87950036e-01,\n",
       "        -4.87950036e-01, -4.87950036e-01, -5.47722558e-01,\n",
       "         2.04939015e+00],\n",
       "       [-6.00718228e-01,  1.09102324e+00,  1.12377952e+00,\n",
       "        -4.46874581e-01, -1.24900090e-16, -1.52655666e-16,\n",
       "         4.87754170e-01, -1.18353584e-01, -4.87950036e-01,\n",
       "        -4.87950036e-01, -4.87950036e-01, -5.47722558e-01,\n",
       "         2.04939015e+00],\n",
       "       [ 5.97952367e-02,  1.09102324e+00,  1.12377952e+00,\n",
       "        -4.46874581e-01, -1.24900090e-16, -1.52655666e-16,\n",
       "         4.87754170e-01, -1.18353584e-01, -4.87950036e-01,\n",
       "        -4.87950036e-01, -4.87950036e-01, -5.47722558e-01,\n",
       "         2.04939015e+00],\n",
       "       [ 7.35600640e-01,  1.09102324e+00,  1.12377952e+00,\n",
       "        -4.46874581e-01, -1.24900090e-16, -1.52655666e-16,\n",
       "         4.87754170e-01, -1.18353584e-01, -4.87950036e-01,\n",
       "        -4.87950036e-01, -4.87950036e-01, -5.47722558e-01,\n",
       "         2.04939015e+00],\n",
       "       [ 1.42704420e+00,  1.09102324e+00,  1.12377952e+00,\n",
       "        -4.46874581e-01, -1.24900090e-16, -1.52655666e-16,\n",
       "         4.87754170e-01, -1.18353584e-01, -4.87950036e-01,\n",
       "        -4.87950036e-01, -4.87950036e-01, -5.47722558e-01,\n",
       "         2.04939015e+00],\n",
       "       [-1.24627847e+00,  1.39374679e+00,  1.35245576e+00,\n",
       "        -4.46874581e-01, -1.24900090e-16, -1.52655666e-16,\n",
       "         4.87754170e-01, -8.50231378e-01,  2.04939015e+00,\n",
       "        -4.87950036e-01, -4.87950036e-01, -5.47722558e-01,\n",
       "        -4.87950036e-01],\n",
       "       [-6.00718228e-01,  1.39374679e+00,  1.35245576e+00,\n",
       "        -4.46874581e-01, -1.24900090e-16, -1.52655666e-16,\n",
       "         4.87754170e-01, -8.50231378e-01,  2.04939015e+00,\n",
       "        -4.87950036e-01, -4.87950036e-01, -5.47722558e-01,\n",
       "        -4.87950036e-01],\n",
       "       [ 5.97952367e-02,  1.39374679e+00,  1.35245576e+00,\n",
       "        -4.46874581e-01, -1.24900090e-16, -1.52655666e-16,\n",
       "         4.87754170e-01, -8.50231378e-01,  2.04939015e+00,\n",
       "        -4.87950036e-01, -4.87950036e-01, -5.47722558e-01,\n",
       "        -4.87950036e-01],\n",
       "       [ 7.35600640e-01,  1.39374679e+00,  1.35245576e+00,\n",
       "        -4.46874581e-01, -1.24900090e-16, -1.52655666e-16,\n",
       "         4.87754170e-01, -8.50231378e-01,  2.04939015e+00,\n",
       "        -4.87950036e-01, -4.87950036e-01, -5.47722558e-01,\n",
       "        -4.87950036e-01],\n",
       "       [ 1.42704420e+00,  1.39374679e+00,  1.35245576e+00,\n",
       "        -4.46874581e-01, -1.24900090e-16, -1.52655666e-16,\n",
       "         4.87754170e-01, -8.50231378e-01,  2.04939015e+00,\n",
       "        -4.87950036e-01, -4.87950036e-01, -5.47722558e-01,\n",
       "        -4.87950036e-01],\n",
       "       [-1.24627847e+00, -6.20000415e-01, -6.30722018e-01,\n",
       "        -4.46874581e-01, -1.24900090e-16, -1.52655666e-16,\n",
       "         4.87754170e-01, -9.79330166e-01, -4.87950036e-01,\n",
       "        -4.87950036e-01,  2.04939015e+00, -5.47722558e-01,\n",
       "        -4.87950036e-01],\n",
       "       [-6.00718228e-01, -6.20000415e-01, -6.30722018e-01,\n",
       "        -4.46874581e-01, -1.24900090e-16, -1.52655666e-16,\n",
       "         4.87754170e-01, -9.79330166e-01, -4.87950036e-01,\n",
       "        -4.87950036e-01,  2.04939015e+00, -5.47722558e-01,\n",
       "        -4.87950036e-01],\n",
       "       [ 5.97952367e-02, -6.20000415e-01, -6.30722018e-01,\n",
       "        -4.46874581e-01, -1.24900090e-16, -1.52655666e-16,\n",
       "         4.87754170e-01, -9.79330166e-01, -4.87950036e-01,\n",
       "        -4.87950036e-01,  2.04939015e+00, -5.47722558e-01,\n",
       "        -4.87950036e-01],\n",
       "       [ 7.35600640e-01, -6.20000415e-01, -6.30722018e-01,\n",
       "        -4.46874581e-01, -1.24900090e-16, -1.52655666e-16,\n",
       "         4.87754170e-01, -9.79330166e-01, -4.87950036e-01,\n",
       "        -4.87950036e-01,  2.04939015e+00, -5.47722558e-01,\n",
       "        -4.87950036e-01],\n",
       "       [ 1.42704420e+00, -6.20000415e-01, -6.30722018e-01,\n",
       "        -4.46874581e-01, -1.24900090e-16, -1.52655666e-16,\n",
       "         4.87754170e-01, -9.79330166e-01, -4.87950036e-01,\n",
       "        -4.87950036e-01,  2.04939015e+00, -5.47722558e-01,\n",
       "        -4.87950036e-01],\n",
       "       [-1.24627847e+00, -6.47529794e-01, -5.79601644e-01,\n",
       "        -4.46874581e-01, -1.24900090e-16, -1.52655666e-16,\n",
       "         4.87754170e-01,  1.78258117e+00, -4.87950036e-01,\n",
       "         2.04939015e+00, -4.87950036e-01, -5.47722558e-01,\n",
       "        -4.87950036e-01],\n",
       "       [-6.00718228e-01, -6.47529794e-01, -5.79601644e-01,\n",
       "        -4.46874581e-01, -1.24900090e-16, -1.52655666e-16,\n",
       "         4.87754170e-01,  1.78258117e+00, -4.87950036e-01,\n",
       "         2.04939015e+00, -4.87950036e-01, -5.47722558e-01,\n",
       "        -4.87950036e-01],\n",
       "       [ 5.97952367e-02, -6.47529794e-01, -5.79601644e-01,\n",
       "        -4.46874581e-01, -1.24900090e-16, -1.52655666e-16,\n",
       "         4.87754170e-01,  1.78258117e+00, -4.87950036e-01,\n",
       "         2.04939015e+00, -4.87950036e-01, -5.47722558e-01,\n",
       "        -4.87950036e-01],\n",
       "       [ 7.35600640e-01, -6.47529794e-01, -5.79601644e-01,\n",
       "        -4.46874581e-01, -1.24900090e-16, -1.52655666e-16,\n",
       "         4.87754170e-01,  1.78258117e+00, -4.87950036e-01,\n",
       "         2.04939015e+00, -4.87950036e-01, -5.47722558e-01,\n",
       "        -4.87950036e-01],\n",
       "       [ 1.42704420e+00, -6.47529794e-01, -5.79601644e-01,\n",
       "        -4.46874581e-01, -1.24900090e-16, -1.52655666e-16,\n",
       "         4.87754170e-01,  1.78258117e+00, -4.87950036e-01,\n",
       "         2.04939015e+00, -4.87950036e-01, -5.47722558e-01,\n",
       "        -4.87950036e-01],\n",
       "       [-1.87721689e+00, -1.04857290e+00, -1.13119421e+00,\n",
       "         3.37638572e+00,  6.10622664e-16,  1.40165657e-15,\n",
       "        -2.15512471e+00,  7.93549540e-01, -4.87950036e-01,\n",
       "        -4.87950036e-01, -4.87950036e-01,  1.82574186e+00,\n",
       "        -4.87950036e-01],\n",
       "       [-1.24627847e+00, -7.07718899e-01, -6.85975244e-01,\n",
       "        -4.46874581e-01, -1.24900090e-16, -1.52655666e-16,\n",
       "         4.87754170e-01, -8.50231378e-01, -4.87950036e-01,\n",
       "        -4.87950036e-01, -4.87950036e-01,  1.82574186e+00,\n",
       "        -4.87950036e-01],\n",
       "       [-6.00718228e-01, -1.03742628e+00, -1.10116594e+00,\n",
       "         1.91990561e+00,  4.85722573e-16,  5.55111512e-16,\n",
       "        -2.01289998e+00,  4.57882519e-02, -4.87950036e-01,\n",
       "        -4.87950036e-01, -4.87950036e-01,  1.82574186e+00,\n",
       "        -4.87950036e-01],\n",
       "       [ 5.97952367e-02, -1.22548186e+00, -1.27037108e+00,\n",
       "         1.40682738e+00,  3.05311332e-16,  4.30211422e-16,\n",
       "        -2.02235435e+00,  1.94010626e-01, -4.87950036e-01,\n",
       "        -4.87950036e-01, -4.87950036e-01,  1.82574186e+00,\n",
       "        -4.87950036e-01],\n",
       "       [ 7.35600640e-01, -1.06914357e+00, -1.10902098e+00,\n",
       "         1.47303103e+00,  3.19189120e-16,  4.85722573e-16,\n",
       "        -1.96897013e+00,  4.49542146e-01, -4.87950036e-01,\n",
       "        -4.87950036e-01, -4.87950036e-01,  1.82574186e+00,\n",
       "        -4.87950036e-01],\n",
       "       [ 1.42704420e+00, -9.97855614e-01, -1.03183061e+00,\n",
       "         1.60543831e+00,  3.19189120e-16,  5.55111512e-16,\n",
       "        -2.08348840e+00,  1.94010626e-01, -4.87950036e-01,\n",
       "        -4.87950036e-01, -4.87950036e-01,  1.82574186e+00,\n",
       "        -4.87950036e-01]])"
      ]
     },
     "execution_count": 34,
     "metadata": {},
     "output_type": "execute_result"
    }
   ],
   "source": [
    "X_transformed"
   ]
  },
  {
   "cell_type": "code",
   "execution_count": 9,
   "id": "6b8dbb14-d657-4994-a5e6-825068d61112",
   "metadata": {},
   "outputs": [],
   "source": [
    "from sklearn.ensemble import RandomForestRegressor\n",
    "from sklearn.preprocessing import LabelEncoder"
   ]
  },
  {
   "cell_type": "code",
   "execution_count": 10,
   "id": "7bdfd37b-e5a2-4bc9-ab39-34f894ee4ec9",
   "metadata": {},
   "outputs": [
    {
     "data": {
      "text/html": [
       "<style>#sk-container-id-1 {color: black;background-color: white;}#sk-container-id-1 pre{padding: 0;}#sk-container-id-1 div.sk-toggleable {background-color: white;}#sk-container-id-1 label.sk-toggleable__label {cursor: pointer;display: block;width: 100%;margin-bottom: 0;padding: 0.3em;box-sizing: border-box;text-align: center;}#sk-container-id-1 label.sk-toggleable__label-arrow:before {content: \"▸\";float: left;margin-right: 0.25em;color: #696969;}#sk-container-id-1 label.sk-toggleable__label-arrow:hover:before {color: black;}#sk-container-id-1 div.sk-estimator:hover label.sk-toggleable__label-arrow:before {color: black;}#sk-container-id-1 div.sk-toggleable__content {max-height: 0;max-width: 0;overflow: hidden;text-align: left;background-color: #f0f8ff;}#sk-container-id-1 div.sk-toggleable__content pre {margin: 0.2em;color: black;border-radius: 0.25em;background-color: #f0f8ff;}#sk-container-id-1 input.sk-toggleable__control:checked~div.sk-toggleable__content {max-height: 200px;max-width: 100%;overflow: auto;}#sk-container-id-1 input.sk-toggleable__control:checked~label.sk-toggleable__label-arrow:before {content: \"▾\";}#sk-container-id-1 div.sk-estimator input.sk-toggleable__control:checked~label.sk-toggleable__label {background-color: #d4ebff;}#sk-container-id-1 div.sk-label input.sk-toggleable__control:checked~label.sk-toggleable__label {background-color: #d4ebff;}#sk-container-id-1 input.sk-hidden--visually {border: 0;clip: rect(1px 1px 1px 1px);clip: rect(1px, 1px, 1px, 1px);height: 1px;margin: -1px;overflow: hidden;padding: 0;position: absolute;width: 1px;}#sk-container-id-1 div.sk-estimator {font-family: monospace;background-color: #f0f8ff;border: 1px dotted black;border-radius: 0.25em;box-sizing: border-box;margin-bottom: 0.5em;}#sk-container-id-1 div.sk-estimator:hover {background-color: #d4ebff;}#sk-container-id-1 div.sk-parallel-item::after {content: \"\";width: 100%;border-bottom: 1px solid gray;flex-grow: 1;}#sk-container-id-1 div.sk-label:hover label.sk-toggleable__label {background-color: #d4ebff;}#sk-container-id-1 div.sk-serial::before {content: \"\";position: absolute;border-left: 1px solid gray;box-sizing: border-box;top: 0;bottom: 0;left: 50%;z-index: 0;}#sk-container-id-1 div.sk-serial {display: flex;flex-direction: column;align-items: center;background-color: white;padding-right: 0.2em;padding-left: 0.2em;position: relative;}#sk-container-id-1 div.sk-item {position: relative;z-index: 1;}#sk-container-id-1 div.sk-parallel {display: flex;align-items: stretch;justify-content: center;background-color: white;position: relative;}#sk-container-id-1 div.sk-item::before, #sk-container-id-1 div.sk-parallel-item::before {content: \"\";position: absolute;border-left: 1px solid gray;box-sizing: border-box;top: 0;bottom: 0;left: 50%;z-index: -1;}#sk-container-id-1 div.sk-parallel-item {display: flex;flex-direction: column;z-index: 1;position: relative;background-color: white;}#sk-container-id-1 div.sk-parallel-item:first-child::after {align-self: flex-end;width: 50%;}#sk-container-id-1 div.sk-parallel-item:last-child::after {align-self: flex-start;width: 50%;}#sk-container-id-1 div.sk-parallel-item:only-child::after {width: 0;}#sk-container-id-1 div.sk-dashed-wrapped {border: 1px dashed gray;margin: 0 0.4em 0.5em 0.4em;box-sizing: border-box;padding-bottom: 0.4em;background-color: white;}#sk-container-id-1 div.sk-label label {font-family: monospace;font-weight: bold;display: inline-block;line-height: 1.2em;}#sk-container-id-1 div.sk-label-container {text-align: center;}#sk-container-id-1 div.sk-container {/* jupyter's `normalize.less` sets `[hidden] { display: none; }` but bootstrap.min.css set `[hidden] { display: none !important; }` so we also need the `!important` here to be able to override the default hidden behavior on the sphinx rendered scikit-learn.org. See: https://github.com/scikit-learn/scikit-learn/issues/21755 */display: inline-block !important;position: relative;}#sk-container-id-1 div.sk-text-repr-fallback {display: none;}</style><div id=\"sk-container-id-1\" class=\"sk-top-container\"><div class=\"sk-text-repr-fallback\"><pre>RandomForestRegressor(n_estimators=10, oob_score=True, random_state=2)</pre><b>In a Jupyter environment, please rerun this cell to show the HTML representation or trust the notebook. <br />On GitHub, the HTML representation is unable to render, please try loading this page with nbviewer.org.</b></div><div class=\"sk-container\" hidden><div class=\"sk-item\"><div class=\"sk-estimator sk-toggleable\"><input class=\"sk-toggleable__control sk-hidden--visually\" id=\"sk-estimator-id-1\" type=\"checkbox\" checked><label for=\"sk-estimator-id-1\" class=\"sk-toggleable__label sk-toggleable__label-arrow\">RandomForestRegressor</label><div class=\"sk-toggleable__content\"><pre>RandomForestRegressor(n_estimators=10, oob_score=True, random_state=2)</pre></div></div></div></div></div>"
      ],
      "text/plain": [
       "RandomForestRegressor(n_estimators=10, oob_score=True, random_state=2)"
      ]
     },
     "execution_count": 10,
     "metadata": {},
     "output_type": "execute_result"
    }
   ],
   "source": [
    "'''#Check for and handle categorical variables\n",
    "label_encoder = LabelEncoder()\n",
    "x_categorical = df.select_dtypes(include=['object']).apply(label_encoder.fit_transform)\n",
    "x_numerical = df.select_dtypes(exclude=['object']).values\n",
    "x = pd.concat([pd.DataFrame(x_numerical), x_categorical], axis=1).values'''\n",
    " \n",
    "# Fitting Random Forest Regression to the dataset\n",
    "regressor = RandomForestRegressor(n_estimators=10, random_state=2, oob_score=True)\n",
    " \n",
    "# Fit the regressor with x and y data\n",
    "regressor.fit(X_transformed, Y_log)"
   ]
  },
  {
   "cell_type": "code",
   "execution_count": 11,
   "id": "5d1332e6-5927-4ad7-b236-0f4244ff6b4c",
   "metadata": {},
   "outputs": [
    {
     "name": "stdout",
     "output_type": "stream",
     "text": [
      "Out-of-Bag Score: 0.8536416016793914\n",
      "Mean Squared Error: 0.01861974426746475\n",
      "R-squared: 0.9952039561299466\n",
      "Mean Absolute Error (MAE): 0.10256006000338565\n"
     ]
    }
   ],
   "source": [
    "# Evaluating the model\n",
    "from sklearn.metrics import mean_squared_error, r2_score\n",
    "from sklearn.metrics import mean_absolute_error\n",
    "\n",
    "# Access the OOB Score\n",
    "oob_score = regressor.oob_score_\n",
    "print(f'Out-of-Bag Score: {oob_score}')\n",
    "\n",
    "# Making predictions on the same data or new data\n",
    "predictions = regressor.predict(X_transformed)\n",
    "\n",
    "# Evaluating the model\n",
    "mse = mean_squared_error(Y_log, predictions)\n",
    "print(f'Mean Squared Error: {mse}')\n",
    "\n",
    "r2 = r2_score(Y_log, predictions)\n",
    "print(f'R-squared: {r2}')\n",
    "\n",
    "mae = mean_absolute_error(Y_log, predictions)\n",
    "print(\"Mean Absolute Error (MAE):\", mae)"
   ]
  },
  {
   "cell_type": "code",
   "execution_count": 12,
   "id": "75ac8ee1-2745-4349-8e24-86749002854c",
   "metadata": {},
   "outputs": [
    {
     "name": "stdout",
     "output_type": "stream",
     "text": [
      "0.13645418376680413\n"
     ]
    }
   ],
   "source": [
    "import math\n",
    "print(math.sqrt(mse))"
   ]
  },
  {
   "cell_type": "code",
   "execution_count": 13,
   "id": "425d8c81-e280-4541-b808-55ae7dfebf53",
   "metadata": {},
   "outputs": [
    {
     "name": "stdout",
     "output_type": "stream",
     "text": [
      "Mean Absolute Percentage Error: 1.4417567361488615\n"
     ]
    },
    {
     "data": {
      "image/png": "[encoded data removed]",
      "text/plain": [
       "<Figure size 640x480 with 1 Axes>"
      ]
     },
     "metadata": {},
     "output_type": "display_data"
    }
   ],
   "source": [
    "import numpy as np\n",
    "import matplotlib.pyplot as plt\n",
    "def mean_absolute_percentage_error(y_test, y_pred):\n",
    "  \"\"\"Calculates the Mean Absolute Percentage Error (MAPE)\"\"\"\n",
    "  y_test, y_pred = np.array(y_test), np.array(y_pred)\n",
    "  return np.mean(np.abs((Y_log-predictions) / Y_log)) * 100\n",
    "\n",
    "# Calculate MAPE\n",
    "mape = mean_absolute_percentage_error(Y_log, predictions)\n",
    "print(\"Mean Absolute Percentage Error:\", mape)\n",
    "\n",
    "# Create scatter plot\n",
    "plt.scatter(Y_log, predictions)\n",
    "plt.xlabel(\"True Values\")\n",
    "plt.ylabel(\"Predicted Values\")\n",
    "plt.title(f\"True vs Predicted Values with MAPE = {mape:.2f}%\")\n",
    "plt.grid(True)\n",
    "plt.show()"
   ]
  },
  {
   "cell_type": "markdown",
   "id": "6125d64f-49fc-49a1-8d69-2fba38eccce8",
   "metadata": {},
   "source": [
    "## PREDICTIONS FOR NEW DATA FROM MOVING AVERAGES"
   ]
  },
  {
   "cell_type": "code",
   "execution_count": 14,
   "id": "6168777d-dbed-4a85-84b9-246aa4ed2020",
   "metadata": {},
   "outputs": [],
   "source": [
    "dfp=pd.read_csv('prediction.csv')"
   ]
  },
  {
   "cell_type": "code",
   "execution_count": 15,
   "id": "b9450a4b-269b-4571-8aac-3a56c78274bd",
   "metadata": {},
   "outputs": [
    {
     "name": "stdout",
     "output_type": "stream",
     "text": [
      "<class 'pandas.core.frame.DataFrame'>\n",
      "RangeIndex: 26 entries, 0 to 25\n",
      "Data columns (total 9 columns):\n",
      " #   Column          Non-Null Count  Dtype  \n",
      "---  ------          --------------  -----  \n",
      " 0   Year            26 non-null     int64  \n",
      " 1   Planted Area    26 non-null     float64\n",
      " 2   Harvested Area  26 non-null     float64\n",
      " 3   Temp_mean       26 non-null     float64\n",
      " 4   Temp_min        26 non-null     float64\n",
      " 5   Temp_max        26 non-null     float64\n",
      " 6   Precipitation   26 non-null     float64\n",
      " 7   Average Yield   26 non-null     float64\n",
      " 8   crop            26 non-null     object \n",
      "dtypes: float64(7), int64(1), object(1)\n",
      "memory usage: 2.0+ KB\n"
     ]
    }
   ],
   "source": [
    "dfp.info()"
   ]
  },
  {
   "cell_type": "code",
   "execution_count": 30,
   "id": "f224cac2-b13e-42f1-89d4-319da07cddd4",
   "metadata": {},
   "outputs": [],
   "source": [
    "#One-Hot Encode categorical features (if any)\n",
    "categorical_features = [col for col in dfp if dfp[col].dtype == object]\n",
    "for col in categorical_features:\n",
    "    dfp = pd.get_dummies(dfp, columns=[col])"
   ]
  },
  {
   "cell_type": "code",
   "execution_count": 36,
   "id": "204e479a-7d89-4919-88b3-c23ef367e90f",
   "metadata": {},
   "outputs": [],
   "source": [
    "X2 = dfp.iloc[:,[0,1,2,3,4,5,6,7,8,9,10,11,12]].values  #features\n",
    "pt = PowerTransformer()\n",
    "X2_transformed = pt.fit_transform(dfp)\n",
    "#y = dfp.iloc[:,9].values  # Target variable"
   ]
  },
  {
   "cell_type": "code",
   "execution_count": 39,
   "id": "1c6e86cd-5a85-4ffb-a026-c3c940e13a8f",
   "metadata": {},
   "outputs": [
    {
     "data": {
      "text/plain": [
       "array([[-1.24627847e+00,  1.09102324e+00,  1.12377952e+00,\n",
       "        -4.46874581e-01, -1.24900090e-16, -1.52655666e-16,\n",
       "         4.87754170e-01, -1.18353584e-01, -4.87950036e-01,\n",
       "        -4.87950036e-01, -4.87950036e-01, -5.47722558e-01,\n",
       "         2.04939015e+00],\n",
       "       [-6.00718228e-01,  1.09102324e+00,  1.12377952e+00,\n",
       "        -4.46874581e-01, -1.24900090e-16, -1.52655666e-16,\n",
       "         4.87754170e-01, -1.18353584e-01, -4.87950036e-01,\n",
       "        -4.87950036e-01, -4.87950036e-01, -5.47722558e-01,\n",
       "         2.04939015e+00],\n",
       "       [ 5.97952367e-02,  1.09102324e+00,  1.12377952e+00,\n",
       "        -4.46874581e-01, -1.24900090e-16, -1.52655666e-16,\n",
       "         4.87754170e-01, -1.18353584e-01, -4.87950036e-01,\n",
       "        -4.87950036e-01, -4.87950036e-01, -5.47722558e-01,\n",
       "         2.04939015e+00],\n",
       "       [ 7.35600640e-01,  1.09102324e+00,  1.12377952e+00,\n",
       "        -4.46874581e-01, -1.24900090e-16, -1.52655666e-16,\n",
       "         4.87754170e-01, -1.18353584e-01, -4.87950036e-01,\n",
       "        -4.87950036e-01, -4.87950036e-01, -5.47722558e-01,\n",
       "         2.04939015e+00],\n",
       "       [ 1.42704420e+00,  1.09102324e+00,  1.12377952e+00,\n",
       "        -4.46874581e-01, -1.24900090e-16, -1.52655666e-16,\n",
       "         4.87754170e-01, -1.18353584e-01, -4.87950036e-01,\n",
       "        -4.87950036e-01, -4.87950036e-01, -5.47722558e-01,\n",
       "         2.04939015e+00],\n",
       "       [-1.24627847e+00,  1.39374679e+00,  1.35245576e+00,\n",
       "        -4.46874581e-01, -1.24900090e-16, -1.52655666e-16,\n",
       "         4.87754170e-01, -8.50231378e-01,  2.04939015e+00,\n",
       "        -4.87950036e-01, -4.87950036e-01, -5.47722558e-01,\n",
       "        -4.87950036e-01],\n",
       "       [-6.00718228e-01,  1.39374679e+00,  1.35245576e+00,\n",
       "        -4.46874581e-01, -1.24900090e-16, -1.52655666e-16,\n",
       "         4.87754170e-01, -8.50231378e-01,  2.04939015e+00,\n",
       "        -4.87950036e-01, -4.87950036e-01, -5.47722558e-01,\n",
       "        -4.87950036e-01],\n",
       "       [ 5.97952367e-02,  1.39374679e+00,  1.35245576e+00,\n",
       "        -4.46874581e-01, -1.24900090e-16, -1.52655666e-16,\n",
       "         4.87754170e-01, -8.50231378e-01,  2.04939015e+00,\n",
       "        -4.87950036e-01, -4.87950036e-01, -5.47722558e-01,\n",
       "        -4.87950036e-01],\n",
       "       [ 7.35600640e-01,  1.39374679e+00,  1.35245576e+00,\n",
       "        -4.46874581e-01, -1.24900090e-16, -1.52655666e-16,\n",
       "         4.87754170e-01, -8.50231378e-01,  2.04939015e+00,\n",
       "        -4.87950036e-01, -4.87950036e-01, -5.47722558e-01,\n",
       "        -4.87950036e-01],\n",
       "       [ 1.42704420e+00,  1.39374679e+00,  1.35245576e+00,\n",
       "        -4.46874581e-01, -1.24900090e-16, -1.52655666e-16,\n",
       "         4.87754170e-01, -8.50231378e-01,  2.04939015e+00,\n",
       "        -4.87950036e-01, -4.87950036e-01, -5.47722558e-01,\n",
       "        -4.87950036e-01],\n",
       "       [-1.24627847e+00, -6.20000415e-01, -6.30722018e-01,\n",
       "        -4.46874581e-01, -1.24900090e-16, -1.52655666e-16,\n",
       "         4.87754170e-01, -9.79330166e-01, -4.87950036e-01,\n",
       "        -4.87950036e-01,  2.04939015e+00, -5.47722558e-01,\n",
       "        -4.87950036e-01],\n",
       "       [-6.00718228e-01, -6.20000415e-01, -6.30722018e-01,\n",
       "        -4.46874581e-01, -1.24900090e-16, -1.52655666e-16,\n",
       "         4.87754170e-01, -9.79330166e-01, -4.87950036e-01,\n",
       "        -4.87950036e-01,  2.04939015e+00, -5.47722558e-01,\n",
       "        -4.87950036e-01],\n",
       "       [ 5.97952367e-02, -6.20000415e-01, -6.30722018e-01,\n",
       "        -4.46874581e-01, -1.24900090e-16, -1.52655666e-16,\n",
       "         4.87754170e-01, -9.79330166e-01, -4.87950036e-01,\n",
       "        -4.87950036e-01,  2.04939015e+00, -5.47722558e-01,\n",
       "        -4.87950036e-01],\n",
       "       [ 7.35600640e-01, -6.20000415e-01, -6.30722018e-01,\n",
       "        -4.46874581e-01, -1.24900090e-16, -1.52655666e-16,\n",
       "         4.87754170e-01, -9.79330166e-01, -4.87950036e-01,\n",
       "        -4.87950036e-01,  2.04939015e+00, -5.47722558e-01,\n",
       "        -4.87950036e-01],\n",
       "       [ 1.42704420e+00, -6.20000415e-01, -6.30722018e-01,\n",
       "        -4.46874581e-01, -1.24900090e-16, -1.52655666e-16,\n",
       "         4.87754170e-01, -9.79330166e-01, -4.87950036e-01,\n",
       "        -4.87950036e-01,  2.04939015e+00, -5.47722558e-01,\n",
       "        -4.87950036e-01],\n",
       "       [-1.24627847e+00, -6.47529794e-01, -5.79601644e-01,\n",
       "        -4.46874581e-01, -1.24900090e-16, -1.52655666e-16,\n",
       "         4.87754170e-01,  1.78258117e+00, -4.87950036e-01,\n",
       "         2.04939015e+00, -4.87950036e-01, -5.47722558e-01,\n",
       "        -4.87950036e-01],\n",
       "       [-6.00718228e-01, -6.47529794e-01, -5.79601644e-01,\n",
       "        -4.46874581e-01, -1.24900090e-16, -1.52655666e-16,\n",
       "         4.87754170e-01,  1.78258117e+00, -4.87950036e-01,\n",
       "         2.04939015e+00, -4.87950036e-01, -5.47722558e-01,\n",
       "        -4.87950036e-01],\n",
       "       [ 5.97952367e-02, -6.47529794e-01, -5.79601644e-01,\n",
       "        -4.46874581e-01, -1.24900090e-16, -1.52655666e-16,\n",
       "         4.87754170e-01,  1.78258117e+00, -4.87950036e-01,\n",
       "         2.04939015e+00, -4.87950036e-01, -5.47722558e-01,\n",
       "        -4.87950036e-01],\n",
       "       [ 7.35600640e-01, -6.47529794e-01, -5.79601644e-01,\n",
       "        -4.46874581e-01, -1.24900090e-16, -1.52655666e-16,\n",
       "         4.87754170e-01,  1.78258117e+00, -4.87950036e-01,\n",
       "         2.04939015e+00, -4.87950036e-01, -5.47722558e-01,\n",
       "        -4.87950036e-01],\n",
       "       [ 1.42704420e+00, -6.47529794e-01, -5.79601644e-01,\n",
       "        -4.46874581e-01, -1.24900090e-16, -1.52655666e-16,\n",
       "         4.87754170e-01,  1.78258117e+00, -4.87950036e-01,\n",
       "         2.04939015e+00, -4.87950036e-01, -5.47722558e-01,\n",
       "        -4.87950036e-01],\n",
       "       [-1.87721689e+00, -1.04857290e+00, -1.13119421e+00,\n",
       "         3.37638572e+00,  6.10622664e-16,  1.40165657e-15,\n",
       "        -2.15512471e+00,  7.93549540e-01, -4.87950036e-01,\n",
       "        -4.87950036e-01, -4.87950036e-01,  1.82574186e+00,\n",
       "        -4.87950036e-01],\n",
       "       [-1.24627847e+00, -7.07718899e-01, -6.85975244e-01,\n",
       "        -4.46874581e-01, -1.24900090e-16, -1.52655666e-16,\n",
       "         4.87754170e-01, -8.50231378e-01, -4.87950036e-01,\n",
       "        -4.87950036e-01, -4.87950036e-01,  1.82574186e+00,\n",
       "        -4.87950036e-01],\n",
       "       [-6.00718228e-01, -1.03742628e+00, -1.10116594e+00,\n",
       "         1.91990561e+00,  4.85722573e-16,  5.55111512e-16,\n",
       "        -2.01289998e+00,  4.57882519e-02, -4.87950036e-01,\n",
       "        -4.87950036e-01, -4.87950036e-01,  1.82574186e+00,\n",
       "        -4.87950036e-01],\n",
       "       [ 5.97952367e-02, -1.22548186e+00, -1.27037108e+00,\n",
       "         1.40682738e+00,  3.05311332e-16,  4.30211422e-16,\n",
       "        -2.02235435e+00,  1.94010626e-01, -4.87950036e-01,\n",
       "        -4.87950036e-01, -4.87950036e-01,  1.82574186e+00,\n",
       "        -4.87950036e-01],\n",
       "       [ 7.35600640e-01, -1.06914357e+00, -1.10902098e+00,\n",
       "         1.47303103e+00,  3.19189120e-16,  4.85722573e-16,\n",
       "        -1.96897013e+00,  4.49542146e-01, -4.87950036e-01,\n",
       "        -4.87950036e-01, -4.87950036e-01,  1.82574186e+00,\n",
       "        -4.87950036e-01],\n",
       "       [ 1.42704420e+00, -9.97855614e-01, -1.03183061e+00,\n",
       "         1.60543831e+00,  3.19189120e-16,  5.55111512e-16,\n",
       "        -2.08348840e+00,  1.94010626e-01, -4.87950036e-01,\n",
       "        -4.87950036e-01, -4.87950036e-01,  1.82574186e+00,\n",
       "        -4.87950036e-01]])"
      ]
     },
     "execution_count": 39,
     "metadata": {},
     "output_type": "execute_result"
    }
   ],
   "source": [
    "X2_transformed"
   ]
  },
  {
   "cell_type": "code",
   "execution_count": 24,
   "id": "8283684e-c478-4788-9ea3-e7eaff42b4b3",
   "metadata": {},
   "outputs": [
    {
     "data": {
      "text/plain": [
       "\"label_encoder = LabelEncoder()\\nx_categorical2 = dfp.select_dtypes(include=['object']).apply(label_encoder.fit_transform)\\nx_numerical2 = dfp.select_dtypes(exclude=['object']).values\\nx2 = pd.concat([pd.DataFrame(x_numerical2), x_categorical2], axis=1).values\""
      ]
     },
     "execution_count": 24,
     "metadata": {},
     "output_type": "execute_result"
    }
   ],
   "source": [
    "'''label_encoder = LabelEncoder()\n",
    "x_categorical2 = dfp.select_dtypes(include=['object']).apply(label_encoder.fit_transform)\n",
    "x_numerical2 = dfp.select_dtypes(exclude=['object']).values\n",
    "x2 = pd.concat([pd.DataFrame(x_numerical2), x_categorical2], axis=1).values'''"
   ]
  },
  {
   "cell_type": "code",
   "execution_count": 38,
   "id": "2c222e01-e75d-47fc-a295-19924e6d5bde",
   "metadata": {},
   "outputs": [],
   "source": [
    "predictions2 = regressor.predict(X2_transformed)"
   ]
  },
  {
   "cell_type": "raw",
   "id": "02d673a9-5bd0-4a19-99ad-bfb63870f43d",
   "metadata": {},
   "source": [
    "print(predictions)"
   ]
  },
  {
   "cell_type": "code",
   "execution_count": null,
   "id": "04062130-53b4-4ee4-8162-2222c0eeacd2",
   "metadata": {},
   "outputs": [],
   "source": []
  }
 ],
 "metadata": {
  "kernelspec": {
   "display_name": "Python 3 (ipykernel)",
   "language": "python",
   "name": "python3"
  },
  "language_info": {
   "codemirror_mode": {
    "name": "ipython",
    "version": 3
   },
   "file_extension": ".py",
   "mimetype": "text/x-python",
   "name": "python",
   "nbconvert_exporter": "python",
   "pygments_lexer": "ipython3",
   "version": "3.11.7"
  }
 },
 "nbformat": 4,
 "nbformat_minor": 5
}
