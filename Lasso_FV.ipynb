{
 "cells": [
  {
   "cell_type": "code",
   "execution_count": 1,
   "id": "8271cc53-2620-448f-b2d5-4ad3cde3900a",
   "metadata": {},
   "outputs": [],
   "source": [
    "import pandas as pd\n",
    "from matplotlib import pyplot\n",
    "import pandas as pd\n",
    "from sklearn.model_selection import train_test_split\n",
    "from sklearn.preprocessing import LabelEncoder, StandardScaler\n",
    "from sklearn.linear_model import Lasso\n",
    "from sklearn.metrics import mean_squared_error"
   ]
  },
  {
   "cell_type": "code",
   "execution_count": 2,
   "id": "c8fa7d33-134d-4ebf-af0a-a29ada5bff05",
   "metadata": {},
   "outputs": [],
   "source": [
    "df = pd.read_csv('jordan2.csv')"
   ]
  },
  {
   "cell_type": "code",
   "execution_count": 3,
   "id": "8d64b2fc-cdc5-430e-a577-1e6fc1c040e9",
   "metadata": {},
   "outputs": [
    {
     "data": {
      "text/plain": [
       "Year                int64\n",
       "Planted Area      float64\n",
       "Harvested Area    float64\n",
       "Temp_mean         float64\n",
       "Temp_min          float64\n",
       "Temp_max          float64\n",
       "Precipitation     float64\n",
       "Average Yield     float64\n",
       "crop               object\n",
       "Production        float64\n",
       "dtype: object"
      ]
     },
     "execution_count": 3,
     "metadata": {},
     "output_type": "execute_result"
    }
   ],
   "source": [
    "df.dtypes"
   ]
  },
  {
   "cell_type": "code",
   "execution_count": 5,
   "id": "55f4f9b0-9a16-4c4f-836d-3a34eceff442",
   "metadata": {},
   "outputs": [
    {
     "data": {
      "text/html": [
       "<div>\n",
       "<style scoped>\n",
       "    .dataframe tbody tr th:only-of-type {\n",
       "        vertical-align: middle;\n",
       "    }\n",
       "\n",
       "    .dataframe tbody tr th {\n",
       "        vertical-align: top;\n",
       "    }\n",
       "\n",
       "    .dataframe thead th {\n",
       "        text-align: right;\n",
       "    }\n",
       "</style>\n",
       "<table border=\"1\" class=\"dataframe\">\n",
       "  <thead>\n",
       "    <tr style=\"text-align: right;\">\n",
       "      <th></th>\n",
       "      <th>Year</th>\n",
       "      <th>Planted Area</th>\n",
       "      <th>Harvested Area</th>\n",
       "      <th>Temp_mean</th>\n",
       "      <th>Temp_min</th>\n",
       "      <th>Temp_max</th>\n",
       "      <th>Precipitation</th>\n",
       "      <th>Average Yield</th>\n",
       "      <th>crop</th>\n",
       "      <th>Production</th>\n",
       "    </tr>\n",
       "  </thead>\n",
       "  <tbody>\n",
       "    <tr>\n",
       "      <th>0</th>\n",
       "      <td>1999</td>\n",
       "      <td>506626.9</td>\n",
       "      <td>40875.9</td>\n",
       "      <td>19.73</td>\n",
       "      <td>12.48</td>\n",
       "      <td>27.03</td>\n",
       "      <td>66.53</td>\n",
       "      <td>0.23</td>\n",
       "      <td>4</td>\n",
       "      <td>9250.5</td>\n",
       "    </tr>\n",
       "    <tr>\n",
       "      <th>1</th>\n",
       "      <td>2000</td>\n",
       "      <td>476437.7</td>\n",
       "      <td>182036.7</td>\n",
       "      <td>18.94</td>\n",
       "      <td>11.71</td>\n",
       "      <td>26.22</td>\n",
       "      <td>96.50</td>\n",
       "      <td>0.14</td>\n",
       "      <td>4</td>\n",
       "      <td>25433.7</td>\n",
       "    </tr>\n",
       "    <tr>\n",
       "      <th>2</th>\n",
       "      <td>2001</td>\n",
       "      <td>443559.5</td>\n",
       "      <td>134494.7</td>\n",
       "      <td>19.76</td>\n",
       "      <td>12.60</td>\n",
       "      <td>26.97</td>\n",
       "      <td>104.04</td>\n",
       "      <td>0.14</td>\n",
       "      <td>4</td>\n",
       "      <td>19293.0</td>\n",
       "    </tr>\n",
       "    <tr>\n",
       "      <th>3</th>\n",
       "      <td>2002</td>\n",
       "      <td>427042.7</td>\n",
       "      <td>327454.4</td>\n",
       "      <td>19.52</td>\n",
       "      <td>12.41</td>\n",
       "      <td>26.68</td>\n",
       "      <td>126.07</td>\n",
       "      <td>0.13</td>\n",
       "      <td>4</td>\n",
       "      <td>43770.8</td>\n",
       "    </tr>\n",
       "    <tr>\n",
       "      <th>4</th>\n",
       "      <td>2003</td>\n",
       "      <td>500622.8</td>\n",
       "      <td>297813.0</td>\n",
       "      <td>19.50</td>\n",
       "      <td>12.50</td>\n",
       "      <td>26.54</td>\n",
       "      <td>133.74</td>\n",
       "      <td>0.14</td>\n",
       "      <td>4</td>\n",
       "      <td>42526.0</td>\n",
       "    </tr>\n",
       "    <tr>\n",
       "      <th>...</th>\n",
       "      <td>...</td>\n",
       "      <td>...</td>\n",
       "      <td>...</td>\n",
       "      <td>...</td>\n",
       "      <td>...</td>\n",
       "      <td>...</td>\n",
       "      <td>...</td>\n",
       "      <td>...</td>\n",
       "      <td>...</td>\n",
       "      <td>...</td>\n",
       "    </tr>\n",
       "    <tr>\n",
       "      <th>115</th>\n",
       "      <td>2018</td>\n",
       "      <td>8231.4</td>\n",
       "      <td>5341.7</td>\n",
       "      <td>20.44</td>\n",
       "      <td>13.50</td>\n",
       "      <td>27.44</td>\n",
       "      <td>122.96</td>\n",
       "      <td>0.07</td>\n",
       "      <td>3</td>\n",
       "      <td>371.6</td>\n",
       "    </tr>\n",
       "    <tr>\n",
       "      <th>116</th>\n",
       "      <td>2019</td>\n",
       "      <td>935.0</td>\n",
       "      <td>532.6</td>\n",
       "      <td>19.89</td>\n",
       "      <td>12.88</td>\n",
       "      <td>26.96</td>\n",
       "      <td>112.83</td>\n",
       "      <td>0.07</td>\n",
       "      <td>3</td>\n",
       "      <td>38.4</td>\n",
       "    </tr>\n",
       "    <tr>\n",
       "      <th>117</th>\n",
       "      <td>2020</td>\n",
       "      <td>2927.8</td>\n",
       "      <td>1904.3</td>\n",
       "      <td>19.90</td>\n",
       "      <td>12.90</td>\n",
       "      <td>26.90</td>\n",
       "      <td>145.40</td>\n",
       "      <td>0.43</td>\n",
       "      <td>3</td>\n",
       "      <td>819.1</td>\n",
       "    </tr>\n",
       "    <tr>\n",
       "      <th>118</th>\n",
       "      <td>2021</td>\n",
       "      <td>4561.9</td>\n",
       "      <td>3017.3</td>\n",
       "      <td>20.30</td>\n",
       "      <td>13.10</td>\n",
       "      <td>27.60</td>\n",
       "      <td>89.20</td>\n",
       "      <td>0.34</td>\n",
       "      <td>3</td>\n",
       "      <td>1012.5</td>\n",
       "    </tr>\n",
       "    <tr>\n",
       "      <th>119</th>\n",
       "      <td>2022</td>\n",
       "      <td>6392.4</td>\n",
       "      <td>4722.5</td>\n",
       "      <td>19.70</td>\n",
       "      <td>12.70</td>\n",
       "      <td>26.80</td>\n",
       "      <td>136.20</td>\n",
       "      <td>0.12</td>\n",
       "      <td>3</td>\n",
       "      <td>570.0</td>\n",
       "    </tr>\n",
       "  </tbody>\n",
       "</table>\n",
       "<p>120 rows × 10 columns</p>\n",
       "</div>"
      ],
      "text/plain": [
       "     Year  Planted Area  Harvested Area  Temp_mean  Temp_min  Temp_max  \\\n",
       "0    1999      506626.9         40875.9      19.73     12.48     27.03   \n",
       "1    2000      476437.7        182036.7      18.94     11.71     26.22   \n",
       "2    2001      443559.5        134494.7      19.76     12.60     26.97   \n",
       "3    2002      427042.7        327454.4      19.52     12.41     26.68   \n",
       "4    2003      500622.8        297813.0      19.50     12.50     26.54   \n",
       "..    ...           ...             ...        ...       ...       ...   \n",
       "115  2018        8231.4          5341.7      20.44     13.50     27.44   \n",
       "116  2019         935.0           532.6      19.89     12.88     26.96   \n",
       "117  2020        2927.8          1904.3      19.90     12.90     26.90   \n",
       "118  2021        4561.9          3017.3      20.30     13.10     27.60   \n",
       "119  2022        6392.4          4722.5      19.70     12.70     26.80   \n",
       "\n",
       "     Precipitation  Average Yield  crop  Production  \n",
       "0            66.53           0.23     4      9250.5  \n",
       "1            96.50           0.14     4     25433.7  \n",
       "2           104.04           0.14     4     19293.0  \n",
       "3           126.07           0.13     4     43770.8  \n",
       "4           133.74           0.14     4     42526.0  \n",
       "..             ...            ...   ...         ...  \n",
       "115         122.96           0.07     3       371.6  \n",
       "116         112.83           0.07     3        38.4  \n",
       "117         145.40           0.43     3       819.1  \n",
       "118          89.20           0.34     3      1012.5  \n",
       "119         136.20           0.12     3       570.0  \n",
       "\n",
       "[120 rows x 10 columns]"
      ]
     },
     "execution_count": 5,
     "metadata": {},
     "output_type": "execute_result"
    }
   ],
   "source": [
    "df.crop=df.crop.astype('category').cat.codes\n",
    "df"
   ]
  },
  {
   "cell_type": "code",
   "execution_count": 6,
   "id": "3e027b57-b139-4f66-8601-6c9f3a14c7fc",
   "metadata": {},
   "outputs": [],
   "source": [
    "features = ['Year', 'Planted Area', 'Harvested Area', 'Average Yield', 'Temp_mean', 'Temp_min', 'Temp_max','Precipitation', 'crop' ]\n",
    "X = df[features]\n",
    "y = df['Production']"
   ]
  },
  {
   "cell_type": "code",
   "execution_count": 7,
   "id": "987917c4-5fd0-45a7-9594-283feee1ab53",
   "metadata": {},
   "outputs": [],
   "source": [
    "#le = LabelEncoder()\n",
    "#X['crop'] = le.fit_transform(X['crop'])"
   ]
  },
  {
   "cell_type": "code",
   "execution_count": 8,
   "id": "82eeecfd-1c0c-417f-bfa9-0fa85d6a3785",
   "metadata": {},
   "outputs": [],
   "source": [
    "X_train, X_test, y_train, y_test = train_test_split(X, y, test_size=0.2, random_state=42)"
   ]
  },
  {
   "cell_type": "code",
   "execution_count": 9,
   "id": "90b9794b-c86d-4caf-aa7f-b075853a3171",
   "metadata": {},
   "outputs": [],
   "source": [
    "# Standardize features (optional, but recommended)\n",
    "scaler = StandardScaler()\n",
    "X_train = scaler.fit_transform(X_train)\n",
    "X_test = scaler.transform(X_test)"
   ]
  },
  {
   "cell_type": "code",
   "execution_count": 10,
   "id": "44028b54-e567-46ec-b832-e4118dae9c2d",
   "metadata": {},
   "outputs": [
    {
     "name": "stderr",
     "output_type": "stream",
     "text": [
      "C:\\ProgramData\\anaconda3\\Lib\\site-packages\\sklearn\\linear_model\\_coordinate_descent.py:631: ConvergenceWarning: Objective did not converge. You might want to increase the number of iterations, check the scale of the features or consider increasing regularisation. Duality gap: 9.119e+08, tolerance: 2.280e+06\n",
      "  model = cd_fast.enet_coordinate_descent(\n"
     ]
    },
    {
     "data": {
      "text/html": [
       "<style>#sk-container-id-1 {color: black;background-color: white;}#sk-container-id-1 pre{padding: 0;}#sk-container-id-1 div.sk-toggleable {background-color: white;}#sk-container-id-1 label.sk-toggleable__label {cursor: pointer;display: block;width: 100%;margin-bottom: 0;padding: 0.3em;box-sizing: border-box;text-align: center;}#sk-container-id-1 label.sk-toggleable__label-arrow:before {content: \"▸\";float: left;margin-right: 0.25em;color: #696969;}#sk-container-id-1 label.sk-toggleable__label-arrow:hover:before {color: black;}#sk-container-id-1 div.sk-estimator:hover label.sk-toggleable__label-arrow:before {color: black;}#sk-container-id-1 div.sk-toggleable__content {max-height: 0;max-width: 0;overflow: hidden;text-align: left;background-color: #f0f8ff;}#sk-container-id-1 div.sk-toggleable__content pre {margin: 0.2em;color: black;border-radius: 0.25em;background-color: #f0f8ff;}#sk-container-id-1 input.sk-toggleable__control:checked~div.sk-toggleable__content {max-height: 200px;max-width: 100%;overflow: auto;}#sk-container-id-1 input.sk-toggleable__control:checked~label.sk-toggleable__label-arrow:before {content: \"▾\";}#sk-container-id-1 div.sk-estimator input.sk-toggleable__control:checked~label.sk-toggleable__label {background-color: #d4ebff;}#sk-container-id-1 div.sk-label input.sk-toggleable__control:checked~label.sk-toggleable__label {background-color: #d4ebff;}#sk-container-id-1 input.sk-hidden--visually {border: 0;clip: rect(1px 1px 1px 1px);clip: rect(1px, 1px, 1px, 1px);height: 1px;margin: -1px;overflow: hidden;padding: 0;position: absolute;width: 1px;}#sk-container-id-1 div.sk-estimator {font-family: monospace;background-color: #f0f8ff;border: 1px dotted black;border-radius: 0.25em;box-sizing: border-box;margin-bottom: 0.5em;}#sk-container-id-1 div.sk-estimator:hover {background-color: #d4ebff;}#sk-container-id-1 div.sk-parallel-item::after {content: \"\";width: 100%;border-bottom: 1px solid gray;flex-grow: 1;}#sk-container-id-1 div.sk-label:hover label.sk-toggleable__label {background-color: #d4ebff;}#sk-container-id-1 div.sk-serial::before {content: \"\";position: absolute;border-left: 1px solid gray;box-sizing: border-box;top: 0;bottom: 0;left: 50%;z-index: 0;}#sk-container-id-1 div.sk-serial {display: flex;flex-direction: column;align-items: center;background-color: white;padding-right: 0.2em;padding-left: 0.2em;position: relative;}#sk-container-id-1 div.sk-item {position: relative;z-index: 1;}#sk-container-id-1 div.sk-parallel {display: flex;align-items: stretch;justify-content: center;background-color: white;position: relative;}#sk-container-id-1 div.sk-item::before, #sk-container-id-1 div.sk-parallel-item::before {content: \"\";position: absolute;border-left: 1px solid gray;box-sizing: border-box;top: 0;bottom: 0;left: 50%;z-index: -1;}#sk-container-id-1 div.sk-parallel-item {display: flex;flex-direction: column;z-index: 1;position: relative;background-color: white;}#sk-container-id-1 div.sk-parallel-item:first-child::after {align-self: flex-end;width: 50%;}#sk-container-id-1 div.sk-parallel-item:last-child::after {align-self: flex-start;width: 50%;}#sk-container-id-1 div.sk-parallel-item:only-child::after {width: 0;}#sk-container-id-1 div.sk-dashed-wrapped {border: 1px dashed gray;margin: 0 0.4em 0.5em 0.4em;box-sizing: border-box;padding-bottom: 0.4em;background-color: white;}#sk-container-id-1 div.sk-label label {font-family: monospace;font-weight: bold;display: inline-block;line-height: 1.2em;}#sk-container-id-1 div.sk-label-container {text-align: center;}#sk-container-id-1 div.sk-container {/* jupyter's `normalize.less` sets `[hidden] { display: none; }` but bootstrap.min.css set `[hidden] { display: none !important; }` so we also need the `!important` here to be able to override the default hidden behavior on the sphinx rendered scikit-learn.org. See: https://github.com/scikit-learn/scikit-learn/issues/21755 */display: inline-block !important;position: relative;}#sk-container-id-1 div.sk-text-repr-fallback {display: none;}</style><div id=\"sk-container-id-1\" class=\"sk-top-container\"><div class=\"sk-text-repr-fallback\"><pre>Lasso(alpha=0.1)</pre><b>In a Jupyter environment, please rerun this cell to show the HTML representation or trust the notebook. <br />On GitHub, the HTML representation is unable to render, please try loading this page with nbviewer.org.</b></div><div class=\"sk-container\" hidden><div class=\"sk-item\"><div class=\"sk-estimator sk-toggleable\"><input class=\"sk-toggleable__control sk-hidden--visually\" id=\"sk-estimator-id-1\" type=\"checkbox\" checked><label for=\"sk-estimator-id-1\" class=\"sk-toggleable__label sk-toggleable__label-arrow\">Lasso</label><div class=\"sk-toggleable__content\"><pre>Lasso(alpha=0.1)</pre></div></div></div></div></div>"
      ],
      "text/plain": [
       "Lasso(alpha=0.1)"
      ]
     },
     "execution_count": 10,
     "metadata": {},
     "output_type": "execute_result"
    }
   ],
   "source": [
    "# Define and fit the Lasso regression model\n",
    "lasso = Lasso(alpha=0.1)  # Adjust alpha for regularization strength\n",
    "lasso.fit(X_train, y_train)"
   ]
  },
  {
   "cell_type": "code",
   "execution_count": 11,
   "id": "f5e9d492-2cdf-47b7-9d3f-31daa5506e1c",
   "metadata": {},
   "outputs": [],
   "source": [
    "# Make predictions on test data\n",
    "y_pred = lasso.predict(X_test)"
   ]
  },
  {
   "cell_type": "code",
   "execution_count": 12,
   "id": "0d6eba4f-a7d2-4a94-8d1f-9d165bec7554",
   "metadata": {},
   "outputs": [
    {
     "name": "stdout",
     "output_type": "stream",
     "text": [
      "Mean Squared Error: 62559876.55\n"
     ]
    }
   ],
   "source": [
    "# Evaluate model performance (mean squared error)\n",
    "mse = mean_squared_error(y_test, y_pred)\n",
    "print(f\"Mean Squared Error: {mse:.2f}\")"
   ]
  },
  {
   "cell_type": "code",
   "execution_count": 13,
   "id": "888d100e-953e-4d69-ba8a-e0db80e528a2",
   "metadata": {},
   "outputs": [
    {
     "name": "stdout",
     "output_type": "stream",
     "text": [
      "Feature importances:\n",
      "\tYear: 334.9814\n",
      "\tPlanted Area: -1053.8236\n",
      "\tHarvested Area: 16037.1908\n",
      "\tAverage Yield: 1033.8480\n",
      "\tTemp_mean: -12285.8114\n",
      "\tTemp_min: 8795.4439\n",
      "\tTemp_max: 4455.4168\n",
      "\tPrecipitation: -263.4669\n",
      "\tcrop: 1825.2278\n"
     ]
    }
   ],
   "source": [
    "# Print feature importances (coefficients)\n",
    "print(\"Feature importances:\")\n",
    "for feature, coef in zip(features, lasso.coef_):\n",
    "    print(f\"\\t{feature}: {coef:.4f}\")"
   ]
  },
  {
   "cell_type": "code",
   "execution_count": null,
   "id": "e4f34c57-781a-4aa4-88c8-d850df6ca1ef",
   "metadata": {},
   "outputs": [],
   "source": []
  }
 ],
 "metadata": {
  "kernelspec": {
   "display_name": "Python 3 (ipykernel)",
   "language": "python",
   "name": "python3"
  },
  "language_info": {
   "codemirror_mode": {
    "name": "ipython",
    "version": 3
   },
   "file_extension": ".py",
   "mimetype": "text/x-python",
   "name": "python",
   "nbconvert_exporter": "python",
   "pygments_lexer": "ipython3",
   "version": "3.11.7"
  }
 },
 "nbformat": 4,
 "nbformat_minor": 5
}
